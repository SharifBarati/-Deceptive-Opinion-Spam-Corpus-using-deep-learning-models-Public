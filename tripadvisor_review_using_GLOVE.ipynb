{
  "cells": [
    {
      "cell_type": "markdown",
      "metadata": {
        "id": "view-in-github",
        "colab_type": "text"
      },
      "source": [
        "<a href=\"https://colab.research.google.com/github/SharifBarati/-Deceptive-Opinion-Spam-Corpus-using-deep-learning-models-Public/blob/main/tripadvisor_review_using_GLOVE.ipynb\" target=\"_parent\"><img src=\"https://colab.research.google.com/assets/colab-badge.svg\" alt=\"Open In Colab\"/></a>"
      ]
    },
    {
      "cell_type": "markdown",
      "metadata": {
        "id": "NcdUj8k41myX"
      },
      "source": [
        "# DECEPTIVE REVIEW CLASSIFIER"
      ]
    },
    {
      "cell_type": "code",
      "execution_count": 1,
      "metadata": {
        "colab": {
          "base_uri": "https://localhost:8080/"
        },
        "id": "p0FBtCv5PxVc",
        "outputId": "ae6bd11b-3ade-4ad6-b06c-d93104dd7d20"
      },
      "outputs": [
        {
          "output_type": "stream",
          "name": "stdout",
          "text": [
            "[nltk_data] Downloading package stopwords to /root/nltk_data...\n",
            "[nltk_data]   Unzipping corpora/stopwords.zip.\n",
            "[nltk_data] Downloading package punkt to /root/nltk_data...\n",
            "[nltk_data]   Unzipping tokenizers/punkt.zip.\n",
            "[nltk_data] Downloading package wordnet to /root/nltk_data...\n",
            "[nltk_data]   Unzipping corpora/wordnet.zip.\n"
          ]
        }
      ],
      "source": [
        "#importing libraries\n",
        "import numpy as np\n",
        "import pandas as pd\n",
        "import nltk\n",
        "import matplotlib.pyplot as plt\n",
        "import statistics\n",
        "import math\n",
        "import os\n",
        "nltk.download('stopwords')\n",
        "nltk.download('punkt')\n",
        "nltk.download('wordnet')\n",
        "import re\n",
        "pd.set_option('max_colwidth', 800)"
      ]
    },
    {
      "cell_type": "code",
      "execution_count": 2,
      "metadata": {
        "colab": {
          "base_uri": "https://localhost:8080/"
        },
        "id": "McpOty5A6Vzr",
        "outputId": "1d237c11-94c8-433d-85db-b277f77c1a10"
      },
      "outputs": [
        {
          "output_type": "stream",
          "name": "stdout",
          "text": [
            "Collecting wget\n",
            "  Downloading wget-3.2.zip (10 kB)\n",
            "Building wheels for collected packages: wget\n",
            "  Building wheel for wget (setup.py) ... \u001b[?25l\u001b[?25hdone\n",
            "  Created wheel for wget: filename=wget-3.2-py3-none-any.whl size=9675 sha256=c9afe10a610c40d3ac464b07079847d19e2e41aec75d127cbcf27049fcc9e3fe\n",
            "  Stored in directory: /root/.cache/pip/wheels/a1/b6/7c/0e63e34eb06634181c63adacca38b79ff8f35c37e3c13e3c02\n",
            "Successfully built wget\n",
            "Installing collected packages: wget\n",
            "Successfully installed wget-3.2\n"
          ]
        }
      ],
      "source": [
        "!pip install wget"
      ]
    },
    {
      "cell_type": "code",
      "execution_count": 3,
      "metadata": {
        "id": "5GMI_kSi6Vzs"
      },
      "outputs": [],
      "source": [
        "import wget"
      ]
    },
    {
      "cell_type": "code",
      "execution_count": 4,
      "metadata": {
        "colab": {
          "base_uri": "https://localhost:8080/"
        },
        "id": "9Muw59XrgCZk",
        "outputId": "9aa8ef35-79af-497d-8819-ad3ef3c4e3df"
      },
      "outputs": [
        {
          "output_type": "stream",
          "name": "stdout",
          "text": [
            "--2022-04-23 10:15:24--  http://nlp.stanford.edu/data/glove.6B.zip\n",
            "Resolving nlp.stanford.edu (nlp.stanford.edu)... 171.64.67.140\n",
            "Connecting to nlp.stanford.edu (nlp.stanford.edu)|171.64.67.140|:80... connected.\n",
            "HTTP request sent, awaiting response... 302 Found\n",
            "Location: https://nlp.stanford.edu/data/glove.6B.zip [following]\n",
            "--2022-04-23 10:15:25--  https://nlp.stanford.edu/data/glove.6B.zip\n",
            "Connecting to nlp.stanford.edu (nlp.stanford.edu)|171.64.67.140|:443... connected.\n",
            "HTTP request sent, awaiting response... 301 Moved Permanently\n",
            "Location: http://downloads.cs.stanford.edu/nlp/data/glove.6B.zip [following]\n",
            "--2022-04-23 10:15:25--  http://downloads.cs.stanford.edu/nlp/data/glove.6B.zip\n",
            "Resolving downloads.cs.stanford.edu (downloads.cs.stanford.edu)... 171.64.64.22\n",
            "Connecting to downloads.cs.stanford.edu (downloads.cs.stanford.edu)|171.64.64.22|:80... connected.\n",
            "HTTP request sent, awaiting response... 200 OK\n",
            "Length: 862182613 (822M) [application/zip]\n",
            "Saving to: ‘glove.6B.zip’\n",
            "\n",
            "glove.6B.zip        100%[===================>] 822.24M  4.95MB/s    in 2m 40s  \n",
            "\n",
            "2022-04-23 10:18:06 (5.12 MB/s) - ‘glove.6B.zip’ saved [862182613/862182613]\n",
            "\n"
          ]
        }
      ],
      "source": [
        "# downloading glove files in web browser\n",
        "!wget http://nlp.stanford.edu/data/glove.6B.zip"
      ]
    },
    {
      "cell_type": "code",
      "execution_count": 5,
      "metadata": {
        "colab": {
          "base_uri": "https://localhost:8080/"
        },
        "id": "0y6uUeDcgDnd",
        "outputId": "d27f40cb-1fcf-4419-d197-14489bd33ecd"
      },
      "outputs": [
        {
          "output_type": "stream",
          "name": "stdout",
          "text": [
            "Archive:  glove.6B.zip\n",
            "  inflating: glove.6B.50d.txt        \n",
            "  inflating: glove.6B.100d.txt       \n",
            "  inflating: glove.6B.200d.txt       \n",
            "  inflating: glove.6B.300d.txt       \n"
          ]
        }
      ],
      "source": [
        "# unzipping the zip files\n",
        "!unzip glove.6B.zip"
      ]
    },
    {
      "cell_type": "code",
      "execution_count": 6,
      "metadata": {
        "colab": {
          "base_uri": "https://localhost:8080/"
        },
        "id": "vwDdk0CDgJHY",
        "outputId": "f770f4ef-5afe-4143-dc55-7acfc5053428"
      },
      "outputs": [
        {
          "output_type": "stream",
          "name": "stdout",
          "text": [
            "Collecting keras_metrics\n",
            "  Downloading keras_metrics-1.1.0-py2.py3-none-any.whl (5.6 kB)\n",
            "Requirement already satisfied: Keras>=2.1.5 in /usr/local/lib/python3.7/dist-packages (from keras_metrics) (2.8.0)\n",
            "Installing collected packages: keras-metrics\n",
            "Successfully installed keras-metrics-1.1.0\n"
          ]
        }
      ],
      "source": [
        "!pip install keras_metrics"
      ]
    },
    {
      "cell_type": "code",
      "execution_count": 7,
      "metadata": {
        "id": "QM7bVgFRgNEI"
      },
      "outputs": [],
      "source": [
        "# importing deep learning libraries\n",
        "import tqdm\n",
        "import keras_metrics # for recall and precision metrics\n",
        "from tensorflow.keras.preprocessing.sequence import pad_sequences\n",
        "from tensorflow.keras.preprocessing.text import Tokenizer\n",
        "from tensorflow.keras.layers import Embedding, LSTM, Dropout, Dense\n",
        "from tensorflow.keras.models import Sequential\n",
        "from tensorflow.keras.utils import to_categorical\n",
        "from tensorflow.keras.callbacks import ModelCheckpoint, TensorBoard\n",
        "import time\n",
        "import pickle"
      ]
    },
    {
      "cell_type": "code",
      "execution_count": 8,
      "metadata": {
        "id": "86SmCWOygOGL"
      },
      "outputs": [],
      "source": [
        "#learning word embeddings on training data using Gensim library\n",
        "from gensim.models import Word2Vec, KeyedVectors\n",
        "# gensim modules\n",
        "from gensim import utils\n",
        "from gensim.models.doc2vec import LabeledSentence\n",
        "from gensim.models import Doc2Vec"
      ]
    },
    {
      "cell_type": "code",
      "execution_count": 10,
      "metadata": {
        "colab": {
          "base_uri": "https://localhost:8080/",
          "height": 788
        },
        "id": "5ND0MVSoyIzC",
        "outputId": "21d04701-d320-4ba6-a399-907959d93ecf"
      },
      "outputs": [
        {
          "output_type": "execute_result",
          "data": {
            "text/plain": [
              "  deceptive   hotel  polarity       source  \\\n",
              "0  truthful  conrad  positive  TripAdvisor   \n",
              "1  truthful   hyatt  positive  TripAdvisor   \n",
              "2  truthful   hyatt  positive  TripAdvisor   \n",
              "3  truthful    omni  positive  TripAdvisor   \n",
              "4  truthful   hyatt  positive  TripAdvisor   \n",
              "\n",
              "                                                                                                                                                                                                                                                                                                                                                                                                                                                                                                                                                                                                                                                                                                                                                                                                                              text  \n",
              "0                                                                                                                                                                                                                                    We stayed for a one night getaway with family on a thursday. Triple AAA rate of 173 was a steal. 7th floor room complete with 44in plasma TV bose stereo, voss and evian water, and gorgeous bathroom(no tub but was fine for us) Concierge was very helpful. You cannot beat this location... Only flaw was breakfast was pricey and service was very very slow(2hours for four kids and four adults on a friday morning) even though there were only two other tables in the restaurant. Food was very good so it was worth the wait. I would return in a heartbeat. A gem in chicago... \\n  \n",
              "1                                                                                                                                                                                                                                                                                                                                                                                                                                                                                                                                  Triple A rate with upgrade to view room was less than $200 which also included breakfast vouchers. Had a great view of river, lake, Wrigley Bldg. & Tribune Bldg. Most major restaurants, Shopping, Sightseeing attractions within walking distance. Large room with a very comfortable bed. \\n  \n",
              "2  This comes a little late as I'm finally catching up on my reviews from the past several months:) A dear friend and I stayed at the Hyatt Regency in late October 2007 for one night while visiting a friend and her husband from out of town. This hotel is perfect, IMO. Easy check in and check out. Lovely, clean, comfortable rooms with great views of the city. I know this area pretty well and it's very convenient to many downtown Chicago attractions. We had dinner and went clubing with our friends around Division St.. We had no problems getting cabs back and forth to the Hyatt and there's even public transportation right near by but we didn't bother since we only needed cabs from and to the hotel. Parking, as is usual for Chicago, was expensive but we were able to get our car out quickly (h...  \n",
              "3                                                                                             The Omni Chicago really delivers on all fronts, from the spaciousness of the rooms to the helpful staff to the prized location on Michigan Avenue. While this address in Chicago requires a high level of quality, the Omni delivers. Check in for myself and a whole group of people with me was under 3 minutes, the staff had plentiful recommendations for dining and events, and the rooms are some of the largest you'll find at this price range in Chicago. Even the 'standard' room has a separate living area and work desk. The fitness center has free weights, weight machines, and two rows of cardio equipment. I shared the room with 7 others and did not feel cramped in any way! All in all, a great property! \\n  \n",
              "4                                                                                                                                                                                                                                                                                                                                                                                                                                I asked for a high floor away from the elevator and that is what I got. The room was pleasantly decorated, functional and very clean. I didn't need a whole lot of service but when I did they were pleasant and prompt. I used the fitness center which was well equipped and everything was in working order. It is in a great location at one end of the Michigan Avenue shopping district. \\n  "
            ],
            "text/html": [
              "\n",
              "  <div id=\"df-8b4187f7-37ab-4599-a5c3-5eba175e4279\">\n",
              "    <div class=\"colab-df-container\">\n",
              "      <div>\n",
              "<style scoped>\n",
              "    .dataframe tbody tr th:only-of-type {\n",
              "        vertical-align: middle;\n",
              "    }\n",
              "\n",
              "    .dataframe tbody tr th {\n",
              "        vertical-align: top;\n",
              "    }\n",
              "\n",
              "    .dataframe thead th {\n",
              "        text-align: right;\n",
              "    }\n",
              "</style>\n",
              "<table border=\"1\" class=\"dataframe\">\n",
              "  <thead>\n",
              "    <tr style=\"text-align: right;\">\n",
              "      <th></th>\n",
              "      <th>deceptive</th>\n",
              "      <th>hotel</th>\n",
              "      <th>polarity</th>\n",
              "      <th>source</th>\n",
              "      <th>text</th>\n",
              "    </tr>\n",
              "  </thead>\n",
              "  <tbody>\n",
              "    <tr>\n",
              "      <th>0</th>\n",
              "      <td>truthful</td>\n",
              "      <td>conrad</td>\n",
              "      <td>positive</td>\n",
              "      <td>TripAdvisor</td>\n",
              "      <td>We stayed for a one night getaway with family on a thursday. Triple AAA rate of 173 was a steal. 7th floor room complete with 44in plasma TV bose stereo, voss and evian water, and gorgeous bathroom(no tub but was fine for us) Concierge was very helpful. You cannot beat this location... Only flaw was breakfast was pricey and service was very very slow(2hours for four kids and four adults on a friday morning) even though there were only two other tables in the restaurant. Food was very good so it was worth the wait. I would return in a heartbeat. A gem in chicago... \\n</td>\n",
              "    </tr>\n",
              "    <tr>\n",
              "      <th>1</th>\n",
              "      <td>truthful</td>\n",
              "      <td>hyatt</td>\n",
              "      <td>positive</td>\n",
              "      <td>TripAdvisor</td>\n",
              "      <td>Triple A rate with upgrade to view room was less than $200 which also included breakfast vouchers. Had a great view of river, lake, Wrigley Bldg. &amp; Tribune Bldg. Most major restaurants, Shopping, Sightseeing attractions within walking distance. Large room with a very comfortable bed. \\n</td>\n",
              "    </tr>\n",
              "    <tr>\n",
              "      <th>2</th>\n",
              "      <td>truthful</td>\n",
              "      <td>hyatt</td>\n",
              "      <td>positive</td>\n",
              "      <td>TripAdvisor</td>\n",
              "      <td>This comes a little late as I'm finally catching up on my reviews from the past several months:) A dear friend and I stayed at the Hyatt Regency in late October 2007 for one night while visiting a friend and her husband from out of town. This hotel is perfect, IMO. Easy check in and check out. Lovely, clean, comfortable rooms with great views of the city. I know this area pretty well and it's very convenient to many downtown Chicago attractions. We had dinner and went clubing with our friends around Division St.. We had no problems getting cabs back and forth to the Hyatt and there's even public transportation right near by but we didn't bother since we only needed cabs from and to the hotel. Parking, as is usual for Chicago, was expensive but we were able to get our car out quickly (h...</td>\n",
              "    </tr>\n",
              "    <tr>\n",
              "      <th>3</th>\n",
              "      <td>truthful</td>\n",
              "      <td>omni</td>\n",
              "      <td>positive</td>\n",
              "      <td>TripAdvisor</td>\n",
              "      <td>The Omni Chicago really delivers on all fronts, from the spaciousness of the rooms to the helpful staff to the prized location on Michigan Avenue. While this address in Chicago requires a high level of quality, the Omni delivers. Check in for myself and a whole group of people with me was under 3 minutes, the staff had plentiful recommendations for dining and events, and the rooms are some of the largest you'll find at this price range in Chicago. Even the 'standard' room has a separate living area and work desk. The fitness center has free weights, weight machines, and two rows of cardio equipment. I shared the room with 7 others and did not feel cramped in any way! All in all, a great property! \\n</td>\n",
              "    </tr>\n",
              "    <tr>\n",
              "      <th>4</th>\n",
              "      <td>truthful</td>\n",
              "      <td>hyatt</td>\n",
              "      <td>positive</td>\n",
              "      <td>TripAdvisor</td>\n",
              "      <td>I asked for a high floor away from the elevator and that is what I got. The room was pleasantly decorated, functional and very clean. I didn't need a whole lot of service but when I did they were pleasant and prompt. I used the fitness center which was well equipped and everything was in working order. It is in a great location at one end of the Michigan Avenue shopping district. \\n</td>\n",
              "    </tr>\n",
              "  </tbody>\n",
              "</table>\n",
              "</div>\n",
              "      <button class=\"colab-df-convert\" onclick=\"convertToInteractive('df-8b4187f7-37ab-4599-a5c3-5eba175e4279')\"\n",
              "              title=\"Convert this dataframe to an interactive table.\"\n",
              "              style=\"display:none;\">\n",
              "        \n",
              "  <svg xmlns=\"http://www.w3.org/2000/svg\" height=\"24px\"viewBox=\"0 0 24 24\"\n",
              "       width=\"24px\">\n",
              "    <path d=\"M0 0h24v24H0V0z\" fill=\"none\"/>\n",
              "    <path d=\"M18.56 5.44l.94 2.06.94-2.06 2.06-.94-2.06-.94-.94-2.06-.94 2.06-2.06.94zm-11 1L8.5 8.5l.94-2.06 2.06-.94-2.06-.94L8.5 2.5l-.94 2.06-2.06.94zm10 10l.94 2.06.94-2.06 2.06-.94-2.06-.94-.94-2.06-.94 2.06-2.06.94z\"/><path d=\"M17.41 7.96l-1.37-1.37c-.4-.4-.92-.59-1.43-.59-.52 0-1.04.2-1.43.59L10.3 9.45l-7.72 7.72c-.78.78-.78 2.05 0 2.83L4 21.41c.39.39.9.59 1.41.59.51 0 1.02-.2 1.41-.59l7.78-7.78 2.81-2.81c.8-.78.8-2.07 0-2.86zM5.41 20L4 18.59l7.72-7.72 1.47 1.35L5.41 20z\"/>\n",
              "  </svg>\n",
              "      </button>\n",
              "      \n",
              "  <style>\n",
              "    .colab-df-container {\n",
              "      display:flex;\n",
              "      flex-wrap:wrap;\n",
              "      gap: 12px;\n",
              "    }\n",
              "\n",
              "    .colab-df-convert {\n",
              "      background-color: #E8F0FE;\n",
              "      border: none;\n",
              "      border-radius: 50%;\n",
              "      cursor: pointer;\n",
              "      display: none;\n",
              "      fill: #1967D2;\n",
              "      height: 32px;\n",
              "      padding: 0 0 0 0;\n",
              "      width: 32px;\n",
              "    }\n",
              "\n",
              "    .colab-df-convert:hover {\n",
              "      background-color: #E2EBFA;\n",
              "      box-shadow: 0px 1px 2px rgba(60, 64, 67, 0.3), 0px 1px 3px 1px rgba(60, 64, 67, 0.15);\n",
              "      fill: #174EA6;\n",
              "    }\n",
              "\n",
              "    [theme=dark] .colab-df-convert {\n",
              "      background-color: #3B4455;\n",
              "      fill: #D2E3FC;\n",
              "    }\n",
              "\n",
              "    [theme=dark] .colab-df-convert:hover {\n",
              "      background-color: #434B5C;\n",
              "      box-shadow: 0px 1px 3px 1px rgba(0, 0, 0, 0.15);\n",
              "      filter: drop-shadow(0px 1px 2px rgba(0, 0, 0, 0.3));\n",
              "      fill: #FFFFFF;\n",
              "    }\n",
              "  </style>\n",
              "\n",
              "      <script>\n",
              "        const buttonEl =\n",
              "          document.querySelector('#df-8b4187f7-37ab-4599-a5c3-5eba175e4279 button.colab-df-convert');\n",
              "        buttonEl.style.display =\n",
              "          google.colab.kernel.accessAllowed ? 'block' : 'none';\n",
              "\n",
              "        async function convertToInteractive(key) {\n",
              "          const element = document.querySelector('#df-8b4187f7-37ab-4599-a5c3-5eba175e4279');\n",
              "          const dataTable =\n",
              "            await google.colab.kernel.invokeFunction('convertToInteractive',\n",
              "                                                     [key], {});\n",
              "          if (!dataTable) return;\n",
              "\n",
              "          const docLinkHtml = 'Like what you see? Visit the ' +\n",
              "            '<a target=\"_blank\" href=https://colab.research.google.com/notebooks/data_table.ipynb>data table notebook</a>'\n",
              "            + ' to learn more about interactive tables.';\n",
              "          element.innerHTML = '';\n",
              "          dataTable['output_type'] = 'display_data';\n",
              "          await google.colab.output.renderOutput(dataTable, element);\n",
              "          const docLink = document.createElement('div');\n",
              "          docLink.innerHTML = docLinkHtml;\n",
              "          element.appendChild(docLink);\n",
              "        }\n",
              "      </script>\n",
              "    </div>\n",
              "  </div>\n",
              "  "
            ]
          },
          "metadata": {},
          "execution_count": 10
        }
      ],
      "source": [
        "#loading dataset\n",
        "df=pd.read_csv('deceptive.csv')\n",
        "df.head()"
      ]
    },
    {
      "cell_type": "code",
      "execution_count": 11,
      "metadata": {
        "colab": {
          "base_uri": "https://localhost:8080/"
        },
        "id": "iQtMqQOayI3H",
        "outputId": "a3305082-1a3c-41b2-92e5-6d2b97beafe6"
      },
      "outputs": [
        {
          "output_type": "execute_result",
          "data": {
            "text/plain": [
              "(1600, 5)"
            ]
          },
          "metadata": {},
          "execution_count": 11
        }
      ],
      "source": [
        "df.shape"
      ]
    },
    {
      "cell_type": "code",
      "execution_count": 12,
      "metadata": {
        "colab": {
          "base_uri": "https://localhost:8080/"
        },
        "id": "mvJBu0hRyI6N",
        "outputId": "43965cb0-752b-42da-c221-c660ef8a8ed8"
      },
      "outputs": [
        {
          "output_type": "execute_result",
          "data": {
            "text/plain": [
              "truthful     800\n",
              "deceptive    800\n",
              "Name: deceptive, dtype: int64"
            ]
          },
          "metadata": {},
          "execution_count": 12
        }
      ],
      "source": [
        "df['deceptive'].value_counts()"
      ]
    },
    {
      "cell_type": "code",
      "execution_count": 13,
      "metadata": {
        "colab": {
          "base_uri": "https://localhost:8080/"
        },
        "id": "THLN8v0IyI9M",
        "outputId": "15649152-a7d9-42a1-f518-06cc91a3f9e9"
      },
      "outputs": [
        {
          "output_type": "execute_result",
          "data": {
            "text/plain": [
              "positive    800\n",
              "negative    800\n",
              "Name: polarity, dtype: int64"
            ]
          },
          "metadata": {},
          "execution_count": 13
        }
      ],
      "source": [
        "df['polarity'].value_counts()"
      ]
    },
    {
      "cell_type": "markdown",
      "metadata": {
        "id": "Bb2SpDri0EQ9"
      },
      "source": [
        "This is perfectly balanced dataset. Our target variable is 'deceptive'."
      ]
    },
    {
      "cell_type": "code",
      "execution_count": null,
      "metadata": {
        "colab": {
          "base_uri": "https://localhost:8080/"
        },
        "id": "yu8kwTeVz7Qd",
        "outputId": "fee12d87-946e-49b9-d19b-42f5530b352f"
      },
      "outputs": [
        {
          "data": {
            "text/plain": [
              "intercontinental    80\n",
              "hyatt               80\n",
              "james               80\n",
              "palmer              80\n",
              "fairmont            80\n",
              "monaco              80\n",
              "omni                80\n",
              "ambassador          80\n",
              "allegro             80\n",
              "swissotel           80\n",
              "hardrock            80\n",
              "affinia             80\n",
              "hilton              80\n",
              "amalfi              80\n",
              "sheraton            80\n",
              "conrad              80\n",
              "sofitel             80\n",
              "homewood            80\n",
              "knickerbocker       80\n",
              "talbott             80\n",
              "Name: hotel, dtype: int64"
            ]
          },
          "execution_count": 56,
          "metadata": {},
          "output_type": "execute_result"
        }
      ],
      "source": [
        "df['hotel'].value_counts()"
      ]
    },
    {
      "cell_type": "code",
      "execution_count": null,
      "metadata": {
        "colab": {
          "base_uri": "https://localhost:8080/"
        },
        "id": "Wphr2Fa13mp3",
        "outputId": "7828d261-b5aa-401c-a477-f375126c9455"
      },
      "outputs": [
        {
          "data": {
            "text/plain": [
              "MTurk          800\n",
              "Web            400\n",
              "TripAdvisor    400\n",
              "Name: source, dtype: int64"
            ]
          },
          "execution_count": 57,
          "metadata": {},
          "output_type": "execute_result"
        }
      ],
      "source": [
        "df['source'].value_counts()"
      ]
    },
    {
      "cell_type": "markdown",
      "metadata": {
        "id": "BN716IOK3TrK"
      },
      "source": [
        "### DATA PREPROCESSING AND EDA"
      ]
    },
    {
      "cell_type": "code",
      "execution_count": 14,
      "metadata": {
        "colab": {
          "base_uri": "https://localhost:8080/",
          "height": 296
        },
        "id": "5uFkuJhWz7UZ",
        "outputId": "bc353120-f7c8-4814-f026-a955957e70b8"
      },
      "outputs": [
        {
          "output_type": "execute_result",
          "data": {
            "text/plain": [
              "<matplotlib.axes._subplots.AxesSubplot at 0x7feb58109d10>"
            ]
          },
          "metadata": {},
          "execution_count": 14
        },
        {
          "output_type": "display_data",
          "data": {
            "text/plain": [
              "<Figure size 432x288 with 1 Axes>"
            ],
            "image/png": "[encoded data removed]"
          },
          "metadata": {
            "needs_background": "light"
          }
        }
      ],
      "source": [
        "import seaborn as sns\n",
        "sns.countplot(x=df['deceptive'],hue='polarity',data=df)"
      ]
    },
    {
      "cell_type": "code",
      "execution_count": 15,
      "metadata": {
        "colab": {
          "base_uri": "https://localhost:8080/",
          "height": 296
        },
        "id": "90xUlMklz7Yr",
        "outputId": "4ff25443-1c71-4b1b-9726-6b1cbebf4f81"
      },
      "outputs": [
        {
          "output_type": "execute_result",
          "data": {
            "text/plain": [
              "<matplotlib.axes._subplots.AxesSubplot at 0x7feb58946250>"
            ]
          },
          "metadata": {},
          "execution_count": 15
        },
        {
          "output_type": "display_data",
          "data": {
            "text/plain": [
              "<Figure size 432x288 with 1 Axes>"
            ],
            "image/png": "[encoded data removed]"
          },
          "metadata": {
            "needs_background": "light"
          }
        }
      ],
      "source": [
        "sns.countplot(x=df['source'],hue='deceptive',data=df)"
      ]
    },
    {
      "cell_type": "code",
      "execution_count": 16,
      "metadata": {
        "colab": {
          "base_uri": "https://localhost:8080/"
        },
        "id": "FO1iHYpP5Fpe",
        "outputId": "f836ae85-5df3-42ca-9947-c3b4ed44bc47"
      },
      "outputs": [
        {
          "output_type": "execute_result",
          "data": {
            "text/plain": [
              "Index(['deceptive', 'hotel', 'polarity', 'source', 'text'], dtype='object')"
            ]
          },
          "metadata": {},
          "execution_count": 16
        }
      ],
      "source": [
        "df.columns"
      ]
    },
    {
      "cell_type": "code",
      "execution_count": null,
      "metadata": {
        "id": "xnUdH8nrozA4"
      },
      "outputs": [],
      "source": [
        "# so combining three text columns --- hotel, source, text\n",
        "#df['text'] = df['hotel']+' '+df['source']+' '+df['text']\n",
        "#df.head()"
      ]
    },
    {
      "cell_type": "code",
      "execution_count": 17,
      "metadata": {
        "colab": {
          "base_uri": "https://localhost:8080/",
          "height": 615
        },
        "id": "waroBGNWz7fm",
        "outputId": "bc38bd72-d663-40f5-b105-a90f69a9e31b"
      },
      "outputs": [
        {
          "output_type": "execute_result",
          "data": {
            "text/plain": [
              "  deceptive  \\\n",
              "0  truthful   \n",
              "1  truthful   \n",
              "2  truthful   \n",
              "3  truthful   \n",
              "4  truthful   \n",
              "\n",
              "                                                                                                                                                                                                                                                                                                                                                                                                                                                                                                                                                                                                                                                                                                                                                                                                                              text  \n",
              "0                                                                                                                                                                                                                                    We stayed for a one night getaway with family on a thursday. Triple AAA rate of 173 was a steal. 7th floor room complete with 44in plasma TV bose stereo, voss and evian water, and gorgeous bathroom(no tub but was fine for us) Concierge was very helpful. You cannot beat this location... Only flaw was breakfast was pricey and service was very very slow(2hours for four kids and four adults on a friday morning) even though there were only two other tables in the restaurant. Food was very good so it was worth the wait. I would return in a heartbeat. A gem in chicago... \\n  \n",
              "1                                                                                                                                                                                                                                                                                                                                                                                                                                                                                                                                  Triple A rate with upgrade to view room was less than $200 which also included breakfast vouchers. Had a great view of river, lake, Wrigley Bldg. & Tribune Bldg. Most major restaurants, Shopping, Sightseeing attractions within walking distance. Large room with a very comfortable bed. \\n  \n",
              "2  This comes a little late as I'm finally catching up on my reviews from the past several months:) A dear friend and I stayed at the Hyatt Regency in late October 2007 for one night while visiting a friend and her husband from out of town. This hotel is perfect, IMO. Easy check in and check out. Lovely, clean, comfortable rooms with great views of the city. I know this area pretty well and it's very convenient to many downtown Chicago attractions. We had dinner and went clubing with our friends around Division St.. We had no problems getting cabs back and forth to the Hyatt and there's even public transportation right near by but we didn't bother since we only needed cabs from and to the hotel. Parking, as is usual for Chicago, was expensive but we were able to get our car out quickly (h...  \n",
              "3                                                                                             The Omni Chicago really delivers on all fronts, from the spaciousness of the rooms to the helpful staff to the prized location on Michigan Avenue. While this address in Chicago requires a high level of quality, the Omni delivers. Check in for myself and a whole group of people with me was under 3 minutes, the staff had plentiful recommendations for dining and events, and the rooms are some of the largest you'll find at this price range in Chicago. Even the 'standard' room has a separate living area and work desk. The fitness center has free weights, weight machines, and two rows of cardio equipment. I shared the room with 7 others and did not feel cramped in any way! All in all, a great property! \\n  \n",
              "4                                                                                                                                                                                                                                                                                                                                                                                                                                I asked for a high floor away from the elevator and that is what I got. The room was pleasantly decorated, functional and very clean. I didn't need a whole lot of service but when I did they were pleasant and prompt. I used the fitness center which was well equipped and everything was in working order. It is in a great location at one end of the Michigan Avenue shopping district. \\n  "
            ],
            "text/html": [
              "\n",
              "  <div id=\"df-b924ffa1-c859-4cfd-9877-e7df5cdfaa41\">\n",
              "    <div class=\"colab-df-container\">\n",
              "      <div>\n",
              "<style scoped>\n",
              "    .dataframe tbody tr th:only-of-type {\n",
              "        vertical-align: middle;\n",
              "    }\n",
              "\n",
              "    .dataframe tbody tr th {\n",
              "        vertical-align: top;\n",
              "    }\n",
              "\n",
              "    .dataframe thead th {\n",
              "        text-align: right;\n",
              "    }\n",
              "</style>\n",
              "<table border=\"1\" class=\"dataframe\">\n",
              "  <thead>\n",
              "    <tr style=\"text-align: right;\">\n",
              "      <th></th>\n",
              "      <th>deceptive</th>\n",
              "      <th>text</th>\n",
              "    </tr>\n",
              "  </thead>\n",
              "  <tbody>\n",
              "    <tr>\n",
              "      <th>0</th>\n",
              "      <td>truthful</td>\n",
              "      <td>We stayed for a one night getaway with family on a thursday. Triple AAA rate of 173 was a steal. 7th floor room complete with 44in plasma TV bose stereo, voss and evian water, and gorgeous bathroom(no tub but was fine for us) Concierge was very helpful. You cannot beat this location... Only flaw was breakfast was pricey and service was very very slow(2hours for four kids and four adults on a friday morning) even though there were only two other tables in the restaurant. Food was very good so it was worth the wait. I would return in a heartbeat. A gem in chicago... \\n</td>\n",
              "    </tr>\n",
              "    <tr>\n",
              "      <th>1</th>\n",
              "      <td>truthful</td>\n",
              "      <td>Triple A rate with upgrade to view room was less than $200 which also included breakfast vouchers. Had a great view of river, lake, Wrigley Bldg. &amp; Tribune Bldg. Most major restaurants, Shopping, Sightseeing attractions within walking distance. Large room with a very comfortable bed. \\n</td>\n",
              "    </tr>\n",
              "    <tr>\n",
              "      <th>2</th>\n",
              "      <td>truthful</td>\n",
              "      <td>This comes a little late as I'm finally catching up on my reviews from the past several months:) A dear friend and I stayed at the Hyatt Regency in late October 2007 for one night while visiting a friend and her husband from out of town. This hotel is perfect, IMO. Easy check in and check out. Lovely, clean, comfortable rooms with great views of the city. I know this area pretty well and it's very convenient to many downtown Chicago attractions. We had dinner and went clubing with our friends around Division St.. We had no problems getting cabs back and forth to the Hyatt and there's even public transportation right near by but we didn't bother since we only needed cabs from and to the hotel. Parking, as is usual for Chicago, was expensive but we were able to get our car out quickly (h...</td>\n",
              "    </tr>\n",
              "    <tr>\n",
              "      <th>3</th>\n",
              "      <td>truthful</td>\n",
              "      <td>The Omni Chicago really delivers on all fronts, from the spaciousness of the rooms to the helpful staff to the prized location on Michigan Avenue. While this address in Chicago requires a high level of quality, the Omni delivers. Check in for myself and a whole group of people with me was under 3 minutes, the staff had plentiful recommendations for dining and events, and the rooms are some of the largest you'll find at this price range in Chicago. Even the 'standard' room has a separate living area and work desk. The fitness center has free weights, weight machines, and two rows of cardio equipment. I shared the room with 7 others and did not feel cramped in any way! All in all, a great property! \\n</td>\n",
              "    </tr>\n",
              "    <tr>\n",
              "      <th>4</th>\n",
              "      <td>truthful</td>\n",
              "      <td>I asked for a high floor away from the elevator and that is what I got. The room was pleasantly decorated, functional and very clean. I didn't need a whole lot of service but when I did they were pleasant and prompt. I used the fitness center which was well equipped and everything was in working order. It is in a great location at one end of the Michigan Avenue shopping district. \\n</td>\n",
              "    </tr>\n",
              "  </tbody>\n",
              "</table>\n",
              "</div>\n",
              "      <button class=\"colab-df-convert\" onclick=\"convertToInteractive('df-b924ffa1-c859-4cfd-9877-e7df5cdfaa41')\"\n",
              "              title=\"Convert this dataframe to an interactive table.\"\n",
              "              style=\"display:none;\">\n",
              "        \n",
              "  <svg xmlns=\"http://www.w3.org/2000/svg\" height=\"24px\"viewBox=\"0 0 24 24\"\n",
              "       width=\"24px\">\n",
              "    <path d=\"M0 0h24v24H0V0z\" fill=\"none\"/>\n",
              "    <path d=\"M18.56 5.44l.94 2.06.94-2.06 2.06-.94-2.06-.94-.94-2.06-.94 2.06-2.06.94zm-11 1L8.5 8.5l.94-2.06 2.06-.94-2.06-.94L8.5 2.5l-.94 2.06-2.06.94zm10 10l.94 2.06.94-2.06 2.06-.94-2.06-.94-.94-2.06-.94 2.06-2.06.94z\"/><path d=\"M17.41 7.96l-1.37-1.37c-.4-.4-.92-.59-1.43-.59-.52 0-1.04.2-1.43.59L10.3 9.45l-7.72 7.72c-.78.78-.78 2.05 0 2.83L4 21.41c.39.39.9.59 1.41.59.51 0 1.02-.2 1.41-.59l7.78-7.78 2.81-2.81c.8-.78.8-2.07 0-2.86zM5.41 20L4 18.59l7.72-7.72 1.47 1.35L5.41 20z\"/>\n",
              "  </svg>\n",
              "      </button>\n",
              "      \n",
              "  <style>\n",
              "    .colab-df-container {\n",
              "      display:flex;\n",
              "      flex-wrap:wrap;\n",
              "      gap: 12px;\n",
              "    }\n",
              "\n",
              "    .colab-df-convert {\n",
              "      background-color: #E8F0FE;\n",
              "      border: none;\n",
              "      border-radius: 50%;\n",
              "      cursor: pointer;\n",
              "      display: none;\n",
              "      fill: #1967D2;\n",
              "      height: 32px;\n",
              "      padding: 0 0 0 0;\n",
              "      width: 32px;\n",
              "    }\n",
              "\n",
              "    .colab-df-convert:hover {\n",
              "      background-color: #E2EBFA;\n",
              "      box-shadow: 0px 1px 2px rgba(60, 64, 67, 0.3), 0px 1px 3px 1px rgba(60, 64, 67, 0.15);\n",
              "      fill: #174EA6;\n",
              "    }\n",
              "\n",
              "    [theme=dark] .colab-df-convert {\n",
              "      background-color: #3B4455;\n",
              "      fill: #D2E3FC;\n",
              "    }\n",
              "\n",
              "    [theme=dark] .colab-df-convert:hover {\n",
              "      background-color: #434B5C;\n",
              "      box-shadow: 0px 1px 3px 1px rgba(0, 0, 0, 0.15);\n",
              "      filter: drop-shadow(0px 1px 2px rgba(0, 0, 0, 0.3));\n",
              "      fill: #FFFFFF;\n",
              "    }\n",
              "  </style>\n",
              "\n",
              "      <script>\n",
              "        const buttonEl =\n",
              "          document.querySelector('#df-b924ffa1-c859-4cfd-9877-e7df5cdfaa41 button.colab-df-convert');\n",
              "        buttonEl.style.display =\n",
              "          google.colab.kernel.accessAllowed ? 'block' : 'none';\n",
              "\n",
              "        async function convertToInteractive(key) {\n",
              "          const element = document.querySelector('#df-b924ffa1-c859-4cfd-9877-e7df5cdfaa41');\n",
              "          const dataTable =\n",
              "            await google.colab.kernel.invokeFunction('convertToInteractive',\n",
              "                                                     [key], {});\n",
              "          if (!dataTable) return;\n",
              "\n",
              "          const docLinkHtml = 'Like what you see? Visit the ' +\n",
              "            '<a target=\"_blank\" href=https://colab.research.google.com/notebooks/data_table.ipynb>data table notebook</a>'\n",
              "            + ' to learn more about interactive tables.';\n",
              "          element.innerHTML = '';\n",
              "          dataTable['output_type'] = 'display_data';\n",
              "          await google.colab.output.renderOutput(dataTable, element);\n",
              "          const docLink = document.createElement('div');\n",
              "          docLink.innerHTML = docLinkHtml;\n",
              "          element.appendChild(docLink);\n",
              "        }\n",
              "      </script>\n",
              "    </div>\n",
              "  </div>\n",
              "  "
            ]
          },
          "metadata": {},
          "execution_count": 17
        }
      ],
      "source": [
        "# dropping unnecessary columns. \n",
        "# dropping hotel names\n",
        "# dropping the source of the data\n",
        "# dropping the polarity of the dataset\n",
        "df.drop(['hotel', 'polarity', 'source'], axis = 1, inplace=True)\n",
        "df.head()"
      ]
    },
    {
      "cell_type": "code",
      "execution_count": 18,
      "metadata": {
        "id": "GqpULgn0z7ix"
      },
      "outputs": [],
      "source": [
        "z = {'truthful' : 1, 'deceptive' : 0}  # 1 for truthful reviews and 0 for deceptive reviews\n",
        "df['deceptive'] = df['deceptive'].map(z)"
      ]
    },
    {
      "cell_type": "code",
      "execution_count": 19,
      "metadata": {
        "colab": {
          "base_uri": "https://localhost:8080/",
          "height": 615
        },
        "id": "Jps0pDmWz7mR",
        "outputId": "c99210b7-d45e-485e-d4fc-2c9f841deb45"
      },
      "outputs": [
        {
          "output_type": "execute_result",
          "data": {
            "text/plain": [
              "   deceptive  \\\n",
              "0          1   \n",
              "1          1   \n",
              "2          1   \n",
              "3          1   \n",
              "4          1   \n",
              "\n",
              "                                                                                                                                                                                                                                                                                                                                                                                                                                                                                                                                                                                                                                                                                                                                                                                                                              text  \n",
              "0                                                                                                                                                                                                                                    We stayed for a one night getaway with family on a thursday. Triple AAA rate of 173 was a steal. 7th floor room complete with 44in plasma TV bose stereo, voss and evian water, and gorgeous bathroom(no tub but was fine for us) Concierge was very helpful. You cannot beat this location... Only flaw was breakfast was pricey and service was very very slow(2hours for four kids and four adults on a friday morning) even though there were only two other tables in the restaurant. Food was very good so it was worth the wait. I would return in a heartbeat. A gem in chicago... \\n  \n",
              "1                                                                                                                                                                                                                                                                                                                                                                                                                                                                                                                                  Triple A rate with upgrade to view room was less than $200 which also included breakfast vouchers. Had a great view of river, lake, Wrigley Bldg. & Tribune Bldg. Most major restaurants, Shopping, Sightseeing attractions within walking distance. Large room with a very comfortable bed. \\n  \n",
              "2  This comes a little late as I'm finally catching up on my reviews from the past several months:) A dear friend and I stayed at the Hyatt Regency in late October 2007 for one night while visiting a friend and her husband from out of town. This hotel is perfect, IMO. Easy check in and check out. Lovely, clean, comfortable rooms with great views of the city. I know this area pretty well and it's very convenient to many downtown Chicago attractions. We had dinner and went clubing with our friends around Division St.. We had no problems getting cabs back and forth to the Hyatt and there's even public transportation right near by but we didn't bother since we only needed cabs from and to the hotel. Parking, as is usual for Chicago, was expensive but we were able to get our car out quickly (h...  \n",
              "3                                                                                             The Omni Chicago really delivers on all fronts, from the spaciousness of the rooms to the helpful staff to the prized location on Michigan Avenue. While this address in Chicago requires a high level of quality, the Omni delivers. Check in for myself and a whole group of people with me was under 3 minutes, the staff had plentiful recommendations for dining and events, and the rooms are some of the largest you'll find at this price range in Chicago. Even the 'standard' room has a separate living area and work desk. The fitness center has free weights, weight machines, and two rows of cardio equipment. I shared the room with 7 others and did not feel cramped in any way! All in all, a great property! \\n  \n",
              "4                                                                                                                                                                                                                                                                                                                                                                                                                                I asked for a high floor away from the elevator and that is what I got. The room was pleasantly decorated, functional and very clean. I didn't need a whole lot of service but when I did they were pleasant and prompt. I used the fitness center which was well equipped and everything was in working order. It is in a great location at one end of the Michigan Avenue shopping district. \\n  "
            ],
            "text/html": [
              "\n",
              "  <div id=\"df-40379394-b311-434f-b43e-47915f5457bd\">\n",
              "    <div class=\"colab-df-container\">\n",
              "      <div>\n",
              "<style scoped>\n",
              "    .dataframe tbody tr th:only-of-type {\n",
              "        vertical-align: middle;\n",
              "    }\n",
              "\n",
              "    .dataframe tbody tr th {\n",
              "        vertical-align: top;\n",
              "    }\n",
              "\n",
              "    .dataframe thead th {\n",
              "        text-align: right;\n",
              "    }\n",
              "</style>\n",
              "<table border=\"1\" class=\"dataframe\">\n",
              "  <thead>\n",
              "    <tr style=\"text-align: right;\">\n",
              "      <th></th>\n",
              "      <th>deceptive</th>\n",
              "      <th>text</th>\n",
              "    </tr>\n",
              "  </thead>\n",
              "  <tbody>\n",
              "    <tr>\n",
              "      <th>0</th>\n",
              "      <td>1</td>\n",
              "      <td>We stayed for a one night getaway with family on a thursday. Triple AAA rate of 173 was a steal. 7th floor room complete with 44in plasma TV bose stereo, voss and evian water, and gorgeous bathroom(no tub but was fine for us) Concierge was very helpful. You cannot beat this location... Only flaw was breakfast was pricey and service was very very slow(2hours for four kids and four adults on a friday morning) even though there were only two other tables in the restaurant. Food was very good so it was worth the wait. I would return in a heartbeat. A gem in chicago... \\n</td>\n",
              "    </tr>\n",
              "    <tr>\n",
              "      <th>1</th>\n",
              "      <td>1</td>\n",
              "      <td>Triple A rate with upgrade to view room was less than $200 which also included breakfast vouchers. Had a great view of river, lake, Wrigley Bldg. &amp; Tribune Bldg. Most major restaurants, Shopping, Sightseeing attractions within walking distance. Large room with a very comfortable bed. \\n</td>\n",
              "    </tr>\n",
              "    <tr>\n",
              "      <th>2</th>\n",
              "      <td>1</td>\n",
              "      <td>This comes a little late as I'm finally catching up on my reviews from the past several months:) A dear friend and I stayed at the Hyatt Regency in late October 2007 for one night while visiting a friend and her husband from out of town. This hotel is perfect, IMO. Easy check in and check out. Lovely, clean, comfortable rooms with great views of the city. I know this area pretty well and it's very convenient to many downtown Chicago attractions. We had dinner and went clubing with our friends around Division St.. We had no problems getting cabs back and forth to the Hyatt and there's even public transportation right near by but we didn't bother since we only needed cabs from and to the hotel. Parking, as is usual for Chicago, was expensive but we were able to get our car out quickly (h...</td>\n",
              "    </tr>\n",
              "    <tr>\n",
              "      <th>3</th>\n",
              "      <td>1</td>\n",
              "      <td>The Omni Chicago really delivers on all fronts, from the spaciousness of the rooms to the helpful staff to the prized location on Michigan Avenue. While this address in Chicago requires a high level of quality, the Omni delivers. Check in for myself and a whole group of people with me was under 3 minutes, the staff had plentiful recommendations for dining and events, and the rooms are some of the largest you'll find at this price range in Chicago. Even the 'standard' room has a separate living area and work desk. The fitness center has free weights, weight machines, and two rows of cardio equipment. I shared the room with 7 others and did not feel cramped in any way! All in all, a great property! \\n</td>\n",
              "    </tr>\n",
              "    <tr>\n",
              "      <th>4</th>\n",
              "      <td>1</td>\n",
              "      <td>I asked for a high floor away from the elevator and that is what I got. The room was pleasantly decorated, functional and very clean. I didn't need a whole lot of service but when I did they were pleasant and prompt. I used the fitness center which was well equipped and everything was in working order. It is in a great location at one end of the Michigan Avenue shopping district. \\n</td>\n",
              "    </tr>\n",
              "  </tbody>\n",
              "</table>\n",
              "</div>\n",
              "      <button class=\"colab-df-convert\" onclick=\"convertToInteractive('df-40379394-b311-434f-b43e-47915f5457bd')\"\n",
              "              title=\"Convert this dataframe to an interactive table.\"\n",
              "              style=\"display:none;\">\n",
              "        \n",
              "  <svg xmlns=\"http://www.w3.org/2000/svg\" height=\"24px\"viewBox=\"0 0 24 24\"\n",
              "       width=\"24px\">\n",
              "    <path d=\"M0 0h24v24H0V0z\" fill=\"none\"/>\n",
              "    <path d=\"M18.56 5.44l.94 2.06.94-2.06 2.06-.94-2.06-.94-.94-2.06-.94 2.06-2.06.94zm-11 1L8.5 8.5l.94-2.06 2.06-.94-2.06-.94L8.5 2.5l-.94 2.06-2.06.94zm10 10l.94 2.06.94-2.06 2.06-.94-2.06-.94-.94-2.06-.94 2.06-2.06.94z\"/><path d=\"M17.41 7.96l-1.37-1.37c-.4-.4-.92-.59-1.43-.59-.52 0-1.04.2-1.43.59L10.3 9.45l-7.72 7.72c-.78.78-.78 2.05 0 2.83L4 21.41c.39.39.9.59 1.41.59.51 0 1.02-.2 1.41-.59l7.78-7.78 2.81-2.81c.8-.78.8-2.07 0-2.86zM5.41 20L4 18.59l7.72-7.72 1.47 1.35L5.41 20z\"/>\n",
              "  </svg>\n",
              "      </button>\n",
              "      \n",
              "  <style>\n",
              "    .colab-df-container {\n",
              "      display:flex;\n",
              "      flex-wrap:wrap;\n",
              "      gap: 12px;\n",
              "    }\n",
              "\n",
              "    .colab-df-convert {\n",
              "      background-color: #E8F0FE;\n",
              "      border: none;\n",
              "      border-radius: 50%;\n",
              "      cursor: pointer;\n",
              "      display: none;\n",
              "      fill: #1967D2;\n",
              "      height: 32px;\n",
              "      padding: 0 0 0 0;\n",
              "      width: 32px;\n",
              "    }\n",
              "\n",
              "    .colab-df-convert:hover {\n",
              "      background-color: #E2EBFA;\n",
              "      box-shadow: 0px 1px 2px rgba(60, 64, 67, 0.3), 0px 1px 3px 1px rgba(60, 64, 67, 0.15);\n",
              "      fill: #174EA6;\n",
              "    }\n",
              "\n",
              "    [theme=dark] .colab-df-convert {\n",
              "      background-color: #3B4455;\n",
              "      fill: #D2E3FC;\n",
              "    }\n",
              "\n",
              "    [theme=dark] .colab-df-convert:hover {\n",
              "      background-color: #434B5C;\n",
              "      box-shadow: 0px 1px 3px 1px rgba(0, 0, 0, 0.15);\n",
              "      filter: drop-shadow(0px 1px 2px rgba(0, 0, 0, 0.3));\n",
              "      fill: #FFFFFF;\n",
              "    }\n",
              "  </style>\n",
              "\n",
              "      <script>\n",
              "        const buttonEl =\n",
              "          document.querySelector('#df-40379394-b311-434f-b43e-47915f5457bd button.colab-df-convert');\n",
              "        buttonEl.style.display =\n",
              "          google.colab.kernel.accessAllowed ? 'block' : 'none';\n",
              "\n",
              "        async function convertToInteractive(key) {\n",
              "          const element = document.querySelector('#df-40379394-b311-434f-b43e-47915f5457bd');\n",
              "          const dataTable =\n",
              "            await google.colab.kernel.invokeFunction('convertToInteractive',\n",
              "                                                     [key], {});\n",
              "          if (!dataTable) return;\n",
              "\n",
              "          const docLinkHtml = 'Like what you see? Visit the ' +\n",
              "            '<a target=\"_blank\" href=https://colab.research.google.com/notebooks/data_table.ipynb>data table notebook</a>'\n",
              "            + ' to learn more about interactive tables.';\n",
              "          element.innerHTML = '';\n",
              "          dataTable['output_type'] = 'display_data';\n",
              "          await google.colab.output.renderOutput(dataTable, element);\n",
              "          const docLink = document.createElement('div');\n",
              "          docLink.innerHTML = docLinkHtml;\n",
              "          element.appendChild(docLink);\n",
              "        }\n",
              "      </script>\n",
              "    </div>\n",
              "  </div>\n",
              "  "
            ]
          },
          "metadata": {},
          "execution_count": 19
        }
      ],
      "source": [
        "df.head()"
      ]
    },
    {
      "cell_type": "code",
      "execution_count": 20,
      "metadata": {
        "id": "5n9gz6FMz7pQ"
      },
      "outputs": [],
      "source": [
        "# Cleaning Raw tweets\n",
        "def clean_text(text):\n",
        "    \n",
        "    #remove emails\n",
        "    text = ' '.join([i for i in text.split() if '@' not in i])\n",
        "    \n",
        "    #remove web address\n",
        "    text = re.sub('http[s]?://\\S+', '', text)\n",
        "\n",
        "    #remove brackets and parantheses (and removing the text inside the brackets and parantheses)\n",
        "    text = re.sub(\"[\\(\\[].*?[\\)\\]]\", \"\", text)\n",
        "\n",
        "    #remove punctuations\n",
        "    text = re.sub(r'[^\\w\\s]', ' ', text)\n",
        "    \n",
        "    #Filter to allow only alphabets and numbers\n",
        "    text = re.sub(r'[^a-zA-Z\\']', ' ', text)\n",
        "    \n",
        "    #Remove Unicode characters\n",
        "    text = re.sub(r'[^\\x00-\\x7F]+', '', text)\n",
        "\n",
        "    #remove double spaces \n",
        "    text = re.sub('\\s+', ' ', text)\n",
        "    \n",
        "    return text"
      ]
    },
    {
      "cell_type": "code",
      "execution_count": 21,
      "metadata": {
        "colab": {
          "base_uri": "https://localhost:8080/",
          "height": 1000
        },
        "id": "MpwEfvotz7sZ",
        "outputId": "eb0b5bfa-25e9-4af7-d5e2-862357253aa2"
      },
      "outputs": [
        {
          "output_type": "execute_result",
          "data": {
            "text/plain": [
              "   deceptive  \\\n",
              "0          1   \n",
              "1          1   \n",
              "2          1   \n",
              "3          1   \n",
              "4          1   \n",
              "5          1   \n",
              "6          1   \n",
              "7          1   \n",
              "8          1   \n",
              "9          1   \n",
              "\n",
              "                                                                                                                                                                                                                                                                                                                                                                                                                                                                                                                                                                                                                                                                                                                                                                                                                              text  \\\n",
              "0                                                                                                                                                                                                                                    We stayed for a one night getaway with family on a thursday. Triple AAA rate of 173 was a steal. 7th floor room complete with 44in plasma TV bose stereo, voss and evian water, and gorgeous bathroom(no tub but was fine for us) Concierge was very helpful. You cannot beat this location... Only flaw was breakfast was pricey and service was very very slow(2hours for four kids and four adults on a friday morning) even though there were only two other tables in the restaurant. Food was very good so it was worth the wait. I would return in a heartbeat. A gem in chicago... \\n   \n",
              "1                                                                                                                                                                                                                                                                                                                                                                                                                                                                                                                                  Triple A rate with upgrade to view room was less than $200 which also included breakfast vouchers. Had a great view of river, lake, Wrigley Bldg. & Tribune Bldg. Most major restaurants, Shopping, Sightseeing attractions within walking distance. Large room with a very comfortable bed. \\n   \n",
              "2  This comes a little late as I'm finally catching up on my reviews from the past several months:) A dear friend and I stayed at the Hyatt Regency in late October 2007 for one night while visiting a friend and her husband from out of town. This hotel is perfect, IMO. Easy check in and check out. Lovely, clean, comfortable rooms with great views of the city. I know this area pretty well and it's very convenient to many downtown Chicago attractions. We had dinner and went clubing with our friends around Division St.. We had no problems getting cabs back and forth to the Hyatt and there's even public transportation right near by but we didn't bother since we only needed cabs from and to the hotel. Parking, as is usual for Chicago, was expensive but we were able to get our car out quickly (h...   \n",
              "3                                                                                             The Omni Chicago really delivers on all fronts, from the spaciousness of the rooms to the helpful staff to the prized location on Michigan Avenue. While this address in Chicago requires a high level of quality, the Omni delivers. Check in for myself and a whole group of people with me was under 3 minutes, the staff had plentiful recommendations for dining and events, and the rooms are some of the largest you'll find at this price range in Chicago. Even the 'standard' room has a separate living area and work desk. The fitness center has free weights, weight machines, and two rows of cardio equipment. I shared the room with 7 others and did not feel cramped in any way! All in all, a great property! \\n   \n",
              "4                                                                                                                                                                                                                                                                                                                                                                                                                                I asked for a high floor away from the elevator and that is what I got. The room was pleasantly decorated, functional and very clean. I didn't need a whole lot of service but when I did they were pleasant and prompt. I used the fitness center which was well equipped and everything was in working order. It is in a great location at one end of the Michigan Avenue shopping district. \\n   \n",
              "5  I stayed at the Omni for one night following a business meeting at another downtown Chicago hotel. I was completely impressed by the service; all personnel during my stay were absolutely outstanding. I checked in quite early (no problem) and was efficiently checked in. My room had a somewhat heavy scent of air freshener (the ONLY negative from the entire stay), which was managed reasonably well by opening the windows. I don't generally require much during my hotel stays, but suffice to say the doorman, housekeeping, the night manager and bartender at 676, the day waiter at 676, and the concierge were amazing - I never waited more than about 30 seconds for anything. The room was very comfy and the amenities were superior. One very tiny complaint - there was no wastebasket near the sink ...   \n",
              "6                                                                                                                                         We stayed in the Conrad for 4 nights just before Thanksgiving. We had a corner room overlooking N Michigan Av and the Tribune Building. To say this is a 5 star hotel is to damn this place with faint praise - it is wonderful. The staff were unbelievably helpful. The standard of the room was superb - HD plasma screens, luxury bedlinens, iPod radio, huge bathroom. Location is unbeatable - right in the heart of everything - watched the whole Light Festival parade from the window. Breakfasts were excellent - no help yourself buffet here - with full and attentive table service. Would have no hesitation recommending or staying again in this hotel - 5 out of 5. \\n   \n",
              "7                                                                             Just got back from 2 days up in Chicago shopping with girlfriends. First time I have stayed at the Omni. I did so because I saw a $129.00 rate that included $25.00 of free food on Travelzoo. The three of us (55 year olds) all stayed in one suite with 2 double beds and a VERY comfortable pull out sofa. We had plenty of room. Food in the restaurant was great, service was outstanding from everone we came into contact with, early morning delivery of free coffee, juice and hot chocolate was fabulous and recommendations from the staff on where to eat, time of movies, shopping areas, etc was really helpful. Need I mention the outstanding location? Simply the best! We all decided that the Omni is our new favorite hotel. \\n   \n",
              "8  We arrived at the Omni on 2nd September for a 6 day stay. I took ill when I left the plane after travelling from Manchester so I saw more of the room than I anticipated. I couldn't go out for 4 days. The room was spacious and clean. The bed was extremely comfortable. The bathroom was large and very clean. What more could you ask. We had coffee and juice left outside our door every morning at the time we requested. I managed to go to the 5th floor to see the sun terrace (outside the gym) Having a sun terrace in a city hotel is a great idea but the terrace was a bit grim. A few sunbeds on a concrete floor. There was also noise from an air conditioning unit. It could do with a bit of cheering up. What I saw of Chicago was very pleasing, it has something for everyone. Would I go back to th...   \n",
              "9                                                                                                                                                                                                                                                                                                                           On our visit to Chicago, we chose the Hyatt due to its location in downtown, within walking distance to most major attractions, such as Sears Tower, Magnificent Mile, Grant/Millenium Parks, etc. Subway & bus stops very close by to travel to other locations in the city . Overall the hotel was very nice, clean, and at a great location. Was in a safe area. Went to beautiful Wrigley Field and Soldier Field and saw both teams play. I love Chicago and would defenitely stay here again! \\n   \n",
              "\n",
              "                                                                                                                                                                                                                                                                                                                                                                                                                                                                                                                                                                                                                                                                                                                                                                                                                        clean_text  \n",
              "0                                                                                                                                                                                                                                                                                                                                                 We stayed for a one night getaway with family on a thursday Triple AAA rate of was a steal th floor room complete with in plasma TV bose stereo voss and evian water and gorgeous bathroom Concierge was very helpful You cannot beat this location Only flaw was breakfast was pricey and service was very very slow even though there were only two other tables in the restaurant Food was very good so it was worth the wait I would return in a heartbeat A gem in chicago   \n",
              "1                                                                                                                                                                                                                                                                                                                                                                                                                                                                                                                                                    Triple A rate with upgrade to view room was less than which also included breakfast vouchers Had a great view of river lake Wrigley Bldg Tribune Bldg Most major restaurants Shopping Sightseeing attractions within walking distance Large room with a very comfortable bed   \n",
              "2  This comes a little late as I m finally catching up on my reviews from the past several months A dear friend and I stayed at the Hyatt Regency in late October for one night while visiting a friend and her husband from out of town This hotel is perfect IMO Easy check in and check out Lovely clean comfortable rooms with great views of the city I know this area pretty well and it s very convenient to many downtown Chicago attractions We had dinner and went clubing with our friends around Division St We had no problems getting cabs back and forth to the Hyatt and there s even public transportation right near by but we didn t bother since we only needed cabs from and to the hotel Parking as is usual for Chicago was expensive but we were able to get our car out quickly No problems at all and...  \n",
              "3                                                                                                                   The Omni Chicago really delivers on all fronts from the spaciousness of the rooms to the helpful staff to the prized location on Michigan Avenue While this address in Chicago requires a high level of quality the Omni delivers Check in for myself and a whole group of people with me was under minutes the staff had plentiful recommendations for dining and events and the rooms are some of the largest you ll find at this price range in Chicago Even the standard room has a separate living area and work desk The fitness center has free weights weight machines and two rows of cardio equipment I shared the room with others and did not feel cramped in any way All in all a great property   \n",
              "4                                                                                                                                                                                                                                                                                                                                                                                                                                        I asked for a high floor away from the elevator and that is what I got The room was pleasantly decorated functional and very clean I didn t need a whole lot of service but when I did they were pleasant and prompt I used the fitness center which was well equipped and everything was in working order It is in a great location at one end of the Michigan Avenue shopping district   \n",
              "5  I stayed at the Omni for one night following a business meeting at another downtown Chicago hotel I was completely impressed by the service all personnel during my stay were absolutely outstanding I checked in quite early and was efficiently checked in My room had a somewhat heavy scent of air freshener which was managed reasonably well by opening the windows I don t generally require much during my hotel stays but suffice to say the doorman housekeeping the night manager and bartender at the day waiter at and the concierge were amazing I never waited more than about seconds for anything The room was very comfy and the amenities were superior One very tiny complaint there was no wastebasket near the sink or near the wet bar had to walk to the other end of the bathroom or sitting room t...  \n",
              "6                                                                                                                                                                            We stayed in the Conrad for nights just before Thanksgiving We had a corner room overlooking N Michigan Av and the Tribune Building To say this is a star hotel is to damn this place with faint praise it is wonderful The staff were unbelievably helpful The standard of the room was superb HD plasma screens luxury bedlinens iPod radio huge bathroom Location is unbeatable right in the heart of everything watched the whole Light Festival parade from the window Breakfasts were excellent no help yourself buffet here with full and attentive table service Would have no hesitation recommending or staying again in this hotel out of   \n",
              "7                                                                                                                                Just got back from days up in Chicago shopping with girlfriends First time I have stayed at the Omni I did so because I saw a rate that included of free food on Travelzoo The three of us all stayed in one suite with double beds and a VERY comfortable pull out sofa We had plenty of room Food in the restaurant was great service was outstanding from everone we came into contact with early morning delivery of free coffee juice and hot chocolate was fabulous and recommendations from the staff on where to eat time of movies shopping areas etc was really helpful Need I mention the outstanding location Simply the best We all decided that the Omni is our new favorite hotel   \n",
              "8                        We arrived at the Omni on nd September for a day stay I took ill when I left the plane after travelling from Manchester so I saw more of the room than I anticipated I couldn t go out for days The room was spacious and clean The bed was extremely comfortable The bathroom was large and very clean What more could you ask We had coffee and juice left outside our door every morning at the time we requested I managed to go to the th floor to see the sun terrace Having a sun terrace in a city hotel is a great idea but the terrace was a bit grim A few sunbeds on a concrete floor There was also noise from an air conditioning unit It could do with a bit of cheering up What I saw of Chicago was very pleasing it has something for everyone Would I go back to the Omni yes I would   \n",
              "9                                                                                                                                                                                                                                                                                                                                              On our visit to Chicago we chose the Hyatt due to its location in downtown within walking distance to most major attractions such as Sears Tower Magnificent Mile Grant Millenium Parks etc Subway bus stops very close by to travel to other locations in the city Overall the hotel was very nice clean and at a great location Was in a safe area Went to beautiful Wrigley Field and Soldier Field and saw both teams play I love Chicago and would defenitely stay here again   "
            ],
            "text/html": [
              "\n",
              "  <div id=\"df-ef14e186-9804-4185-9439-427f55474331\">\n",
              "    <div class=\"colab-df-container\">\n",
              "      <div>\n",
              "<style scoped>\n",
              "    .dataframe tbody tr th:only-of-type {\n",
              "        vertical-align: middle;\n",
              "    }\n",
              "\n",
              "    .dataframe tbody tr th {\n",
              "        vertical-align: top;\n",
              "    }\n",
              "\n",
              "    .dataframe thead th {\n",
              "        text-align: right;\n",
              "    }\n",
              "</style>\n",
              "<table border=\"1\" class=\"dataframe\">\n",
              "  <thead>\n",
              "    <tr style=\"text-align: right;\">\n",
              "      <th></th>\n",
              "      <th>deceptive</th>\n",
              "      <th>text</th>\n",
              "      <th>clean_text</th>\n",
              "    </tr>\n",
              "  </thead>\n",
              "  <tbody>\n",
              "    <tr>\n",
              "      <th>0</th>\n",
              "      <td>1</td>\n",
              "      <td>We stayed for a one night getaway with family on a thursday. Triple AAA rate of 173 was a steal. 7th floor room complete with 44in plasma TV bose stereo, voss and evian water, and gorgeous bathroom(no tub but was fine for us) Concierge was very helpful. You cannot beat this location... Only flaw was breakfast was pricey and service was very very slow(2hours for four kids and four adults on a friday morning) even though there were only two other tables in the restaurant. Food was very good so it was worth the wait. I would return in a heartbeat. A gem in chicago... \\n</td>\n",
              "      <td>We stayed for a one night getaway with family on a thursday Triple AAA rate of was a steal th floor room complete with in plasma TV bose stereo voss and evian water and gorgeous bathroom Concierge was very helpful You cannot beat this location Only flaw was breakfast was pricey and service was very very slow even though there were only two other tables in the restaurant Food was very good so it was worth the wait I would return in a heartbeat A gem in chicago</td>\n",
              "    </tr>\n",
              "    <tr>\n",
              "      <th>1</th>\n",
              "      <td>1</td>\n",
              "      <td>Triple A rate with upgrade to view room was less than $200 which also included breakfast vouchers. Had a great view of river, lake, Wrigley Bldg. &amp; Tribune Bldg. Most major restaurants, Shopping, Sightseeing attractions within walking distance. Large room with a very comfortable bed. \\n</td>\n",
              "      <td>Triple A rate with upgrade to view room was less than which also included breakfast vouchers Had a great view of river lake Wrigley Bldg Tribune Bldg Most major restaurants Shopping Sightseeing attractions within walking distance Large room with a very comfortable bed</td>\n",
              "    </tr>\n",
              "    <tr>\n",
              "      <th>2</th>\n",
              "      <td>1</td>\n",
              "      <td>This comes a little late as I'm finally catching up on my reviews from the past several months:) A dear friend and I stayed at the Hyatt Regency in late October 2007 for one night while visiting a friend and her husband from out of town. This hotel is perfect, IMO. Easy check in and check out. Lovely, clean, comfortable rooms with great views of the city. I know this area pretty well and it's very convenient to many downtown Chicago attractions. We had dinner and went clubing with our friends around Division St.. We had no problems getting cabs back and forth to the Hyatt and there's even public transportation right near by but we didn't bother since we only needed cabs from and to the hotel. Parking, as is usual for Chicago, was expensive but we were able to get our car out quickly (h...</td>\n",
              "      <td>This comes a little late as I m finally catching up on my reviews from the past several months A dear friend and I stayed at the Hyatt Regency in late October for one night while visiting a friend and her husband from out of town This hotel is perfect IMO Easy check in and check out Lovely clean comfortable rooms with great views of the city I know this area pretty well and it s very convenient to many downtown Chicago attractions We had dinner and went clubing with our friends around Division St We had no problems getting cabs back and forth to the Hyatt and there s even public transportation right near by but we didn t bother since we only needed cabs from and to the hotel Parking as is usual for Chicago was expensive but we were able to get our car out quickly No problems at all and...</td>\n",
              "    </tr>\n",
              "    <tr>\n",
              "      <th>3</th>\n",
              "      <td>1</td>\n",
              "      <td>The Omni Chicago really delivers on all fronts, from the spaciousness of the rooms to the helpful staff to the prized location on Michigan Avenue. While this address in Chicago requires a high level of quality, the Omni delivers. Check in for myself and a whole group of people with me was under 3 minutes, the staff had plentiful recommendations for dining and events, and the rooms are some of the largest you'll find at this price range in Chicago. Even the 'standard' room has a separate living area and work desk. The fitness center has free weights, weight machines, and two rows of cardio equipment. I shared the room with 7 others and did not feel cramped in any way! All in all, a great property! \\n</td>\n",
              "      <td>The Omni Chicago really delivers on all fronts from the spaciousness of the rooms to the helpful staff to the prized location on Michigan Avenue While this address in Chicago requires a high level of quality the Omni delivers Check in for myself and a whole group of people with me was under minutes the staff had plentiful recommendations for dining and events and the rooms are some of the largest you ll find at this price range in Chicago Even the standard room has a separate living area and work desk The fitness center has free weights weight machines and two rows of cardio equipment I shared the room with others and did not feel cramped in any way All in all a great property</td>\n",
              "    </tr>\n",
              "    <tr>\n",
              "      <th>4</th>\n",
              "      <td>1</td>\n",
              "      <td>I asked for a high floor away from the elevator and that is what I got. The room was pleasantly decorated, functional and very clean. I didn't need a whole lot of service but when I did they were pleasant and prompt. I used the fitness center which was well equipped and everything was in working order. It is in a great location at one end of the Michigan Avenue shopping district. \\n</td>\n",
              "      <td>I asked for a high floor away from the elevator and that is what I got The room was pleasantly decorated functional and very clean I didn t need a whole lot of service but when I did they were pleasant and prompt I used the fitness center which was well equipped and everything was in working order It is in a great location at one end of the Michigan Avenue shopping district</td>\n",
              "    </tr>\n",
              "    <tr>\n",
              "      <th>5</th>\n",
              "      <td>1</td>\n",
              "      <td>I stayed at the Omni for one night following a business meeting at another downtown Chicago hotel. I was completely impressed by the service; all personnel during my stay were absolutely outstanding. I checked in quite early (no problem) and was efficiently checked in. My room had a somewhat heavy scent of air freshener (the ONLY negative from the entire stay), which was managed reasonably well by opening the windows. I don't generally require much during my hotel stays, but suffice to say the doorman, housekeeping, the night manager and bartender at 676, the day waiter at 676, and the concierge were amazing - I never waited more than about 30 seconds for anything. The room was very comfy and the amenities were superior. One very tiny complaint - there was no wastebasket near the sink ...</td>\n",
              "      <td>I stayed at the Omni for one night following a business meeting at another downtown Chicago hotel I was completely impressed by the service all personnel during my stay were absolutely outstanding I checked in quite early and was efficiently checked in My room had a somewhat heavy scent of air freshener which was managed reasonably well by opening the windows I don t generally require much during my hotel stays but suffice to say the doorman housekeeping the night manager and bartender at the day waiter at and the concierge were amazing I never waited more than about seconds for anything The room was very comfy and the amenities were superior One very tiny complaint there was no wastebasket near the sink or near the wet bar had to walk to the other end of the bathroom or sitting room t...</td>\n",
              "    </tr>\n",
              "    <tr>\n",
              "      <th>6</th>\n",
              "      <td>1</td>\n",
              "      <td>We stayed in the Conrad for 4 nights just before Thanksgiving. We had a corner room overlooking N Michigan Av and the Tribune Building. To say this is a 5 star hotel is to damn this place with faint praise - it is wonderful. The staff were unbelievably helpful. The standard of the room was superb - HD plasma screens, luxury bedlinens, iPod radio, huge bathroom. Location is unbeatable - right in the heart of everything - watched the whole Light Festival parade from the window. Breakfasts were excellent - no help yourself buffet here - with full and attentive table service. Would have no hesitation recommending or staying again in this hotel - 5 out of 5. \\n</td>\n",
              "      <td>We stayed in the Conrad for nights just before Thanksgiving We had a corner room overlooking N Michigan Av and the Tribune Building To say this is a star hotel is to damn this place with faint praise it is wonderful The staff were unbelievably helpful The standard of the room was superb HD plasma screens luxury bedlinens iPod radio huge bathroom Location is unbeatable right in the heart of everything watched the whole Light Festival parade from the window Breakfasts were excellent no help yourself buffet here with full and attentive table service Would have no hesitation recommending or staying again in this hotel out of</td>\n",
              "    </tr>\n",
              "    <tr>\n",
              "      <th>7</th>\n",
              "      <td>1</td>\n",
              "      <td>Just got back from 2 days up in Chicago shopping with girlfriends. First time I have stayed at the Omni. I did so because I saw a $129.00 rate that included $25.00 of free food on Travelzoo. The three of us (55 year olds) all stayed in one suite with 2 double beds and a VERY comfortable pull out sofa. We had plenty of room. Food in the restaurant was great, service was outstanding from everone we came into contact with, early morning delivery of free coffee, juice and hot chocolate was fabulous and recommendations from the staff on where to eat, time of movies, shopping areas, etc was really helpful. Need I mention the outstanding location? Simply the best! We all decided that the Omni is our new favorite hotel. \\n</td>\n",
              "      <td>Just got back from days up in Chicago shopping with girlfriends First time I have stayed at the Omni I did so because I saw a rate that included of free food on Travelzoo The three of us all stayed in one suite with double beds and a VERY comfortable pull out sofa We had plenty of room Food in the restaurant was great service was outstanding from everone we came into contact with early morning delivery of free coffee juice and hot chocolate was fabulous and recommendations from the staff on where to eat time of movies shopping areas etc was really helpful Need I mention the outstanding location Simply the best We all decided that the Omni is our new favorite hotel</td>\n",
              "    </tr>\n",
              "    <tr>\n",
              "      <th>8</th>\n",
              "      <td>1</td>\n",
              "      <td>We arrived at the Omni on 2nd September for a 6 day stay. I took ill when I left the plane after travelling from Manchester so I saw more of the room than I anticipated. I couldn't go out for 4 days. The room was spacious and clean. The bed was extremely comfortable. The bathroom was large and very clean. What more could you ask. We had coffee and juice left outside our door every morning at the time we requested. I managed to go to the 5th floor to see the sun terrace (outside the gym) Having a sun terrace in a city hotel is a great idea but the terrace was a bit grim. A few sunbeds on a concrete floor. There was also noise from an air conditioning unit. It could do with a bit of cheering up. What I saw of Chicago was very pleasing, it has something for everyone. Would I go back to th...</td>\n",
              "      <td>We arrived at the Omni on nd September for a day stay I took ill when I left the plane after travelling from Manchester so I saw more of the room than I anticipated I couldn t go out for days The room was spacious and clean The bed was extremely comfortable The bathroom was large and very clean What more could you ask We had coffee and juice left outside our door every morning at the time we requested I managed to go to the th floor to see the sun terrace Having a sun terrace in a city hotel is a great idea but the terrace was a bit grim A few sunbeds on a concrete floor There was also noise from an air conditioning unit It could do with a bit of cheering up What I saw of Chicago was very pleasing it has something for everyone Would I go back to the Omni yes I would</td>\n",
              "    </tr>\n",
              "    <tr>\n",
              "      <th>9</th>\n",
              "      <td>1</td>\n",
              "      <td>On our visit to Chicago, we chose the Hyatt due to its location in downtown, within walking distance to most major attractions, such as Sears Tower, Magnificent Mile, Grant/Millenium Parks, etc. Subway &amp; bus stops very close by to travel to other locations in the city . Overall the hotel was very nice, clean, and at a great location. Was in a safe area. Went to beautiful Wrigley Field and Soldier Field and saw both teams play. I love Chicago and would defenitely stay here again! \\n</td>\n",
              "      <td>On our visit to Chicago we chose the Hyatt due to its location in downtown within walking distance to most major attractions such as Sears Tower Magnificent Mile Grant Millenium Parks etc Subway bus stops very close by to travel to other locations in the city Overall the hotel was very nice clean and at a great location Was in a safe area Went to beautiful Wrigley Field and Soldier Field and saw both teams play I love Chicago and would defenitely stay here again</td>\n",
              "    </tr>\n",
              "  </tbody>\n",
              "</table>\n",
              "</div>\n",
              "      <button class=\"colab-df-convert\" onclick=\"convertToInteractive('df-ef14e186-9804-4185-9439-427f55474331')\"\n",
              "              title=\"Convert this dataframe to an interactive table.\"\n",
              "              style=\"display:none;\">\n",
              "        \n",
              "  <svg xmlns=\"http://www.w3.org/2000/svg\" height=\"24px\"viewBox=\"0 0 24 24\"\n",
              "       width=\"24px\">\n",
              "    <path d=\"M0 0h24v24H0V0z\" fill=\"none\"/>\n",
              "    <path d=\"M18.56 5.44l.94 2.06.94-2.06 2.06-.94-2.06-.94-.94-2.06-.94 2.06-2.06.94zm-11 1L8.5 8.5l.94-2.06 2.06-.94-2.06-.94L8.5 2.5l-.94 2.06-2.06.94zm10 10l.94 2.06.94-2.06 2.06-.94-2.06-.94-.94-2.06-.94 2.06-2.06.94z\"/><path d=\"M17.41 7.96l-1.37-1.37c-.4-.4-.92-.59-1.43-.59-.52 0-1.04.2-1.43.59L10.3 9.45l-7.72 7.72c-.78.78-.78 2.05 0 2.83L4 21.41c.39.39.9.59 1.41.59.51 0 1.02-.2 1.41-.59l7.78-7.78 2.81-2.81c.8-.78.8-2.07 0-2.86zM5.41 20L4 18.59l7.72-7.72 1.47 1.35L5.41 20z\"/>\n",
              "  </svg>\n",
              "      </button>\n",
              "      \n",
              "  <style>\n",
              "    .colab-df-container {\n",
              "      display:flex;\n",
              "      flex-wrap:wrap;\n",
              "      gap: 12px;\n",
              "    }\n",
              "\n",
              "    .colab-df-convert {\n",
              "      background-color: #E8F0FE;\n",
              "      border: none;\n",
              "      border-radius: 50%;\n",
              "      cursor: pointer;\n",
              "      display: none;\n",
              "      fill: #1967D2;\n",
              "      height: 32px;\n",
              "      padding: 0 0 0 0;\n",
              "      width: 32px;\n",
              "    }\n",
              "\n",
              "    .colab-df-convert:hover {\n",
              "      background-color: #E2EBFA;\n",
              "      box-shadow: 0px 1px 2px rgba(60, 64, 67, 0.3), 0px 1px 3px 1px rgba(60, 64, 67, 0.15);\n",
              "      fill: #174EA6;\n",
              "    }\n",
              "\n",
              "    [theme=dark] .colab-df-convert {\n",
              "      background-color: #3B4455;\n",
              "      fill: #D2E3FC;\n",
              "    }\n",
              "\n",
              "    [theme=dark] .colab-df-convert:hover {\n",
              "      background-color: #434B5C;\n",
              "      box-shadow: 0px 1px 3px 1px rgba(0, 0, 0, 0.15);\n",
              "      filter: drop-shadow(0px 1px 2px rgba(0, 0, 0, 0.3));\n",
              "      fill: #FFFFFF;\n",
              "    }\n",
              "  </style>\n",
              "\n",
              "      <script>\n",
              "        const buttonEl =\n",
              "          document.querySelector('#df-ef14e186-9804-4185-9439-427f55474331 button.colab-df-convert');\n",
              "        buttonEl.style.display =\n",
              "          google.colab.kernel.accessAllowed ? 'block' : 'none';\n",
              "\n",
              "        async function convertToInteractive(key) {\n",
              "          const element = document.querySelector('#df-ef14e186-9804-4185-9439-427f55474331');\n",
              "          const dataTable =\n",
              "            await google.colab.kernel.invokeFunction('convertToInteractive',\n",
              "                                                     [key], {});\n",
              "          if (!dataTable) return;\n",
              "\n",
              "          const docLinkHtml = 'Like what you see? Visit the ' +\n",
              "            '<a target=\"_blank\" href=https://colab.research.google.com/notebooks/data_table.ipynb>data table notebook</a>'\n",
              "            + ' to learn more about interactive tables.';\n",
              "          element.innerHTML = '';\n",
              "          dataTable['output_type'] = 'display_data';\n",
              "          await google.colab.output.renderOutput(dataTable, element);\n",
              "          const docLink = document.createElement('div');\n",
              "          docLink.innerHTML = docLinkHtml;\n",
              "          element.appendChild(docLink);\n",
              "        }\n",
              "      </script>\n",
              "    </div>\n",
              "  </div>\n",
              "  "
            ]
          },
          "metadata": {},
          "execution_count": 21
        }
      ],
      "source": [
        "# applying that into function.\n",
        "df[\"clean_text\"] = df['text'].apply(lambda x: clean_text(x))\n",
        "df.head(10)"
      ]
    },
    {
      "cell_type": "code",
      "execution_count": 22,
      "metadata": {
        "id": "rUUuX-sfz7vM"
      },
      "outputs": [],
      "source": [
        "# dropping the uncleaned text column \"text\"\n",
        "df = df.drop(['text'], axis=1)"
      ]
    },
    {
      "cell_type": "code",
      "execution_count": 23,
      "metadata": {
        "colab": {
          "base_uri": "https://localhost:8080/",
          "height": 580
        },
        "id": "z1ztjGdL8Cap",
        "outputId": "99d61156-9a11-4ed1-e2c9-70adbf783c62"
      },
      "outputs": [
        {
          "output_type": "execute_result",
          "data": {
            "text/plain": [
              "   label  \\\n",
              "0      1   \n",
              "1      1   \n",
              "2      1   \n",
              "3      1   \n",
              "4      1   \n",
              "\n",
              "                                                                                                                                                                                                                                                                                                                                                                                                                                                                                                                                                                                                                                                                                                                                                                                                                              text  \n",
              "0                                                                                                                                                                                                                                                                                                                                                 We stayed for a one night getaway with family on a thursday Triple AAA rate of was a steal th floor room complete with in plasma TV bose stereo voss and evian water and gorgeous bathroom Concierge was very helpful You cannot beat this location Only flaw was breakfast was pricey and service was very very slow even though there were only two other tables in the restaurant Food was very good so it was worth the wait I would return in a heartbeat A gem in chicago   \n",
              "1                                                                                                                                                                                                                                                                                                                                                                                                                                                                                                                                                    Triple A rate with upgrade to view room was less than which also included breakfast vouchers Had a great view of river lake Wrigley Bldg Tribune Bldg Most major restaurants Shopping Sightseeing attractions within walking distance Large room with a very comfortable bed   \n",
              "2  This comes a little late as I m finally catching up on my reviews from the past several months A dear friend and I stayed at the Hyatt Regency in late October for one night while visiting a friend and her husband from out of town This hotel is perfect IMO Easy check in and check out Lovely clean comfortable rooms with great views of the city I know this area pretty well and it s very convenient to many downtown Chicago attractions We had dinner and went clubing with our friends around Division St We had no problems getting cabs back and forth to the Hyatt and there s even public transportation right near by but we didn t bother since we only needed cabs from and to the hotel Parking as is usual for Chicago was expensive but we were able to get our car out quickly No problems at all and...  \n",
              "3                                                                                                                   The Omni Chicago really delivers on all fronts from the spaciousness of the rooms to the helpful staff to the prized location on Michigan Avenue While this address in Chicago requires a high level of quality the Omni delivers Check in for myself and a whole group of people with me was under minutes the staff had plentiful recommendations for dining and events and the rooms are some of the largest you ll find at this price range in Chicago Even the standard room has a separate living area and work desk The fitness center has free weights weight machines and two rows of cardio equipment I shared the room with others and did not feel cramped in any way All in all a great property   \n",
              "4                                                                                                                                                                                                                                                                                                                                                                                                                                        I asked for a high floor away from the elevator and that is what I got The room was pleasantly decorated functional and very clean I didn t need a whole lot of service but when I did they were pleasant and prompt I used the fitness center which was well equipped and everything was in working order It is in a great location at one end of the Michigan Avenue shopping district   "
            ],
            "text/html": [
              "\n",
              "  <div id=\"df-9cf9b877-8bfb-493c-8b74-34c8cf18d11d\">\n",
              "    <div class=\"colab-df-container\">\n",
              "      <div>\n",
              "<style scoped>\n",
              "    .dataframe tbody tr th:only-of-type {\n",
              "        vertical-align: middle;\n",
              "    }\n",
              "\n",
              "    .dataframe tbody tr th {\n",
              "        vertical-align: top;\n",
              "    }\n",
              "\n",
              "    .dataframe thead th {\n",
              "        text-align: right;\n",
              "    }\n",
              "</style>\n",
              "<table border=\"1\" class=\"dataframe\">\n",
              "  <thead>\n",
              "    <tr style=\"text-align: right;\">\n",
              "      <th></th>\n",
              "      <th>label</th>\n",
              "      <th>text</th>\n",
              "    </tr>\n",
              "  </thead>\n",
              "  <tbody>\n",
              "    <tr>\n",
              "      <th>0</th>\n",
              "      <td>1</td>\n",
              "      <td>We stayed for a one night getaway with family on a thursday Triple AAA rate of was a steal th floor room complete with in plasma TV bose stereo voss and evian water and gorgeous bathroom Concierge was very helpful You cannot beat this location Only flaw was breakfast was pricey and service was very very slow even though there were only two other tables in the restaurant Food was very good so it was worth the wait I would return in a heartbeat A gem in chicago</td>\n",
              "    </tr>\n",
              "    <tr>\n",
              "      <th>1</th>\n",
              "      <td>1</td>\n",
              "      <td>Triple A rate with upgrade to view room was less than which also included breakfast vouchers Had a great view of river lake Wrigley Bldg Tribune Bldg Most major restaurants Shopping Sightseeing attractions within walking distance Large room with a very comfortable bed</td>\n",
              "    </tr>\n",
              "    <tr>\n",
              "      <th>2</th>\n",
              "      <td>1</td>\n",
              "      <td>This comes a little late as I m finally catching up on my reviews from the past several months A dear friend and I stayed at the Hyatt Regency in late October for one night while visiting a friend and her husband from out of town This hotel is perfect IMO Easy check in and check out Lovely clean comfortable rooms with great views of the city I know this area pretty well and it s very convenient to many downtown Chicago attractions We had dinner and went clubing with our friends around Division St We had no problems getting cabs back and forth to the Hyatt and there s even public transportation right near by but we didn t bother since we only needed cabs from and to the hotel Parking as is usual for Chicago was expensive but we were able to get our car out quickly No problems at all and...</td>\n",
              "    </tr>\n",
              "    <tr>\n",
              "      <th>3</th>\n",
              "      <td>1</td>\n",
              "      <td>The Omni Chicago really delivers on all fronts from the spaciousness of the rooms to the helpful staff to the prized location on Michigan Avenue While this address in Chicago requires a high level of quality the Omni delivers Check in for myself and a whole group of people with me was under minutes the staff had plentiful recommendations for dining and events and the rooms are some of the largest you ll find at this price range in Chicago Even the standard room has a separate living area and work desk The fitness center has free weights weight machines and two rows of cardio equipment I shared the room with others and did not feel cramped in any way All in all a great property</td>\n",
              "    </tr>\n",
              "    <tr>\n",
              "      <th>4</th>\n",
              "      <td>1</td>\n",
              "      <td>I asked for a high floor away from the elevator and that is what I got The room was pleasantly decorated functional and very clean I didn t need a whole lot of service but when I did they were pleasant and prompt I used the fitness center which was well equipped and everything was in working order It is in a great location at one end of the Michigan Avenue shopping district</td>\n",
              "    </tr>\n",
              "  </tbody>\n",
              "</table>\n",
              "</div>\n",
              "      <button class=\"colab-df-convert\" onclick=\"convertToInteractive('df-9cf9b877-8bfb-493c-8b74-34c8cf18d11d')\"\n",
              "              title=\"Convert this dataframe to an interactive table.\"\n",
              "              style=\"display:none;\">\n",
              "        \n",
              "  <svg xmlns=\"http://www.w3.org/2000/svg\" height=\"24px\"viewBox=\"0 0 24 24\"\n",
              "       width=\"24px\">\n",
              "    <path d=\"M0 0h24v24H0V0z\" fill=\"none\"/>\n",
              "    <path d=\"M18.56 5.44l.94 2.06.94-2.06 2.06-.94-2.06-.94-.94-2.06-.94 2.06-2.06.94zm-11 1L8.5 8.5l.94-2.06 2.06-.94-2.06-.94L8.5 2.5l-.94 2.06-2.06.94zm10 10l.94 2.06.94-2.06 2.06-.94-2.06-.94-.94-2.06-.94 2.06-2.06.94z\"/><path d=\"M17.41 7.96l-1.37-1.37c-.4-.4-.92-.59-1.43-.59-.52 0-1.04.2-1.43.59L10.3 9.45l-7.72 7.72c-.78.78-.78 2.05 0 2.83L4 21.41c.39.39.9.59 1.41.59.51 0 1.02-.2 1.41-.59l7.78-7.78 2.81-2.81c.8-.78.8-2.07 0-2.86zM5.41 20L4 18.59l7.72-7.72 1.47 1.35L5.41 20z\"/>\n",
              "  </svg>\n",
              "      </button>\n",
              "      \n",
              "  <style>\n",
              "    .colab-df-container {\n",
              "      display:flex;\n",
              "      flex-wrap:wrap;\n",
              "      gap: 12px;\n",
              "    }\n",
              "\n",
              "    .colab-df-convert {\n",
              "      background-color: #E8F0FE;\n",
              "      border: none;\n",
              "      border-radius: 50%;\n",
              "      cursor: pointer;\n",
              "      display: none;\n",
              "      fill: #1967D2;\n",
              "      height: 32px;\n",
              "      padding: 0 0 0 0;\n",
              "      width: 32px;\n",
              "    }\n",
              "\n",
              "    .colab-df-convert:hover {\n",
              "      background-color: #E2EBFA;\n",
              "      box-shadow: 0px 1px 2px rgba(60, 64, 67, 0.3), 0px 1px 3px 1px rgba(60, 64, 67, 0.15);\n",
              "      fill: #174EA6;\n",
              "    }\n",
              "\n",
              "    [theme=dark] .colab-df-convert {\n",
              "      background-color: #3B4455;\n",
              "      fill: #D2E3FC;\n",
              "    }\n",
              "\n",
              "    [theme=dark] .colab-df-convert:hover {\n",
              "      background-color: #434B5C;\n",
              "      box-shadow: 0px 1px 3px 1px rgba(0, 0, 0, 0.15);\n",
              "      filter: drop-shadow(0px 1px 2px rgba(0, 0, 0, 0.3));\n",
              "      fill: #FFFFFF;\n",
              "    }\n",
              "  </style>\n",
              "\n",
              "      <script>\n",
              "        const buttonEl =\n",
              "          document.querySelector('#df-9cf9b877-8bfb-493c-8b74-34c8cf18d11d button.colab-df-convert');\n",
              "        buttonEl.style.display =\n",
              "          google.colab.kernel.accessAllowed ? 'block' : 'none';\n",
              "\n",
              "        async function convertToInteractive(key) {\n",
              "          const element = document.querySelector('#df-9cf9b877-8bfb-493c-8b74-34c8cf18d11d');\n",
              "          const dataTable =\n",
              "            await google.colab.kernel.invokeFunction('convertToInteractive',\n",
              "                                                     [key], {});\n",
              "          if (!dataTable) return;\n",
              "\n",
              "          const docLinkHtml = 'Like what you see? Visit the ' +\n",
              "            '<a target=\"_blank\" href=https://colab.research.google.com/notebooks/data_table.ipynb>data table notebook</a>'\n",
              "            + ' to learn more about interactive tables.';\n",
              "          element.innerHTML = '';\n",
              "          dataTable['output_type'] = 'display_data';\n",
              "          await google.colab.output.renderOutput(dataTable, element);\n",
              "          const docLink = document.createElement('div');\n",
              "          docLink.innerHTML = docLinkHtml;\n",
              "          element.appendChild(docLink);\n",
              "        }\n",
              "      </script>\n",
              "    </div>\n",
              "  </div>\n",
              "  "
            ]
          },
          "metadata": {},
          "execution_count": 23
        }
      ],
      "source": [
        "# renaming the column\n",
        "df.rename(columns = {'clean_text':'text', 'deceptive' : 'label'}, inplace = True)\n",
        "df.head()"
      ]
    },
    {
      "cell_type": "markdown",
      "metadata": {
        "id": "4b8Tt5FJ1-5S"
      },
      "source": [
        "### WORD VISUALIZATION"
      ]
    },
    {
      "cell_type": "code",
      "execution_count": 24,
      "metadata": {
        "id": "N13YQldl8Ci5"
      },
      "outputs": [],
      "source": [
        "from wordcloud import WordCloud, STOPWORDS\n",
        "import matplotlib.pyplot as plt"
      ]
    },
    {
      "cell_type": "code",
      "execution_count": 25,
      "metadata": {
        "colab": {
          "base_uri": "https://localhost:8080/"
        },
        "id": "T32RVBX38Coq",
        "outputId": "e64658af-cb2f-4997-aa40-734c6e9c8667"
      },
      "outputs": [
        {
          "output_type": "stream",
          "name": "stdout",
          "text": [
            "{'on', 'o', 'for', 'once', 'ain', 'only', \"didn't\", 'me', 'himself', \"mustn't\", 'have', 'ma', 'or', 'over', 'your', 'no', 've', 'an', 'were', 'out', 'll', 'he', 'of', 'own', 'and', 'themselves', 'i', 'before', 'same', 'into', 'but', \"weren't\", 'being', 'whom', 'most', 'by', 'each', 'her', 'very', 'ours', \"shan't\", \"wasn't\", 'until', \"you're\", 'all', 'down', 'just', 'nor', 'him', 'mustn', 'such', 'while', 'where', 'below', 'who', 'in', 'is', 'here', 'doing', 'y', 'hadn', 'again', \"wouldn't\", 'didn', 'don', 'should', 'it', \"should've\", 'when', 's', 'why', \"couldn't\", 'then', 'shouldn', \"won't\", 'she', 'what', 'about', 'too', 'wouldn', 'had', 'with', 'mightn', \"needn't\", 'myself', 'yourself', 'can', 'them', 'ourselves', \"it's\", 'than', 'hers', 'the', 'through', 'a', 'further', 'they', \"isn't\", 'my', 'so', \"you've\", \"you'll\", 'which', 'more', \"hadn't\", 'any', \"aren't\", 'itself', 'weren', 'yours', 'did', 'couldn', \"hasn't\", 'our', 'd', 'this', 'up', 'be', 'isn', 'that', 'few', \"shouldn't\", 'been', \"that'll\", 'as', 'haven', 'doesn', 'both', 'does', 'herself', 'hasn', 'you', 'theirs', \"mightn't\", 'now', 're', 'its', 'to', 'because', 'under', 'from', 'other', 'between', 'during', 'won', 'some', 'are', 'needn', 'their', 'we', 'if', 'having', 'not', 'am', 'will', 'above', 'after', 'those', 'yourselves', 'shan', \"haven't\", 'these', 'aren', \"you'd\", 'was', 'm', \"doesn't\", 'against', 'wasn', \"don't\", 'at', 't', 'do', 'has', 'off', 'how', 'his', \"she's\", 'there'}\n"
          ]
        }
      ],
      "source": [
        "#making worldcloud\n",
        "from wordcloud import WordCloud, STOPWORDS\n",
        "from nltk.corpus import stopwords\n",
        "stop_words=set(stopwords.words(\"english\"))\n",
        "print(stop_words)"
      ]
    },
    {
      "cell_type": "code",
      "execution_count": 26,
      "metadata": {
        "colab": {
          "base_uri": "https://localhost:8080/",
          "height": 391
        },
        "id": "ARcopxzKyJB8",
        "outputId": "0b0aa535-edf0-44f4-ebe2-e0d39867e19c"
      },
      "outputs": [
        {
          "output_type": "display_data",
          "data": {
            "text/plain": [
              "<Figure size 360x360 with 1 Axes>"
            ],
            "image/png": "[encoded data removed]"
          },
          "metadata": {
            "needs_background": "light"
          }
        }
      ],
      "source": [
        "# visualizing the most frequent words using matplot library\n",
        "comment_words = ' '\n",
        "for words in df['text']: \n",
        "    comment_words = comment_words + words + ' '\n",
        "    \n",
        "wordcloud = WordCloud(width = 600, height = 600, \n",
        "                background_color='white' , \n",
        "                stopwords = stop_words, \n",
        "                min_font_size = 10).generate(comment_words) \n",
        "  \n",
        "# plot the WordCloud image                        \n",
        "plt.figure(figsize = (5, 5), facecolor = None) \n",
        "plt.imshow(wordcloud) \n",
        "plt.axis(\"off\") \n",
        "plt.tight_layout(pad = 0)"
      ]
    },
    {
      "cell_type": "markdown",
      "metadata": {
        "id": "RPWjeyHL2GK4"
      },
      "source": [
        "### DATA PREPROCESSING -- LEMMATIZATION"
      ]
    },
    {
      "cell_type": "code",
      "execution_count": 27,
      "metadata": {
        "id": "a9w9XRUFNgu8"
      },
      "outputs": [],
      "source": [
        "# preprocessing the data (removing stopwords, convert the sentence to lower case, and also applying lemmatization to get meaningful words )\n",
        "from nltk.corpus import stopwords\n",
        "from nltk.stem import WordNetLemmatizer\n",
        "wnl=WordNetLemmatizer()\n",
        "corpus=[]\n",
        "def clean_text(review):\n",
        "  review = review.lower()\n",
        "  review = review.split()\n",
        "  review = [wnl.lemmatize(word) for word in review if word not in set(stopwords.words('english'))]\n",
        "  review = ' '.join(review)\n",
        "  return review"
      ]
    },
    {
      "cell_type": "code",
      "execution_count": 28,
      "metadata": {
        "colab": {
          "base_uri": "https://localhost:8080/",
          "height": 441
        },
        "id": "9URzfHK6xw3h",
        "outputId": "d882a874-5e87-4b68-c8d9-720f84d0fda4"
      },
      "outputs": [
        {
          "output_type": "execute_result",
          "data": {
            "text/plain": [
              "   label  \\\n",
              "0      1   \n",
              "1      1   \n",
              "2      1   \n",
              "3      1   \n",
              "4      1   \n",
              "\n",
              "                                                                                                                                                                                                                                                                                                                                                                                                                                                                                                                                                                                            text  \n",
              "0                                                                                                                                                                                                                                                                              stayed one night getaway family thursday triple aaa rate steal th floor room complete plasma tv bose stereo voss evian water gorgeous bathroom concierge helpful cannot beat location flaw breakfast pricey service slow even though two table restaurant food good worth wait would return heartbeat gem chicago  \n",
              "1                                                                                                                                                                                                                                                                                                                                                                           triple rate upgrade view room le also included breakfast voucher great view river lake wrigley bldg tribune bldg major restaurant shopping sightseeing attraction within walking distance large room comfortable bed  \n",
              "2  come little late finally catching review past several month dear friend stayed hyatt regency late october one night visiting friend husband town hotel perfect imo easy check check lovely clean comfortable room great view city know area pretty well convenient many downtown chicago attraction dinner went clubing friend around division st problem getting cab back forth hyatt even public transportation right near bother since needed cab hotel parking usual chicago expensive able get car quickly problem best part got rate hotwire downright steal area chicago quality hotel  \n",
              "3                                                                                                                                         omni chicago really delivers front spaciousness room helpful staff prized location michigan avenue address chicago requires high level quality omni delivers check whole group people minute staff plentiful recommendation dining event room largest find price range chicago even standard room separate living area work desk fitness center free weight weight machine two row cardio equipment shared room others feel cramped way great property  \n",
              "4                                                                                                                                                                                                                                                                                                                                                       asked high floor away elevator got room pleasantly decorated functional clean need whole lot service pleasant prompt used fitness center well equipped everything working order great location one end michigan avenue shopping district  "
            ],
            "text/html": [
              "\n",
              "  <div id=\"df-ec1c5641-d85e-418c-ae8a-e3a6f920d2a8\">\n",
              "    <div class=\"colab-df-container\">\n",
              "      <div>\n",
              "<style scoped>\n",
              "    .dataframe tbody tr th:only-of-type {\n",
              "        vertical-align: middle;\n",
              "    }\n",
              "\n",
              "    .dataframe tbody tr th {\n",
              "        vertical-align: top;\n",
              "    }\n",
              "\n",
              "    .dataframe thead th {\n",
              "        text-align: right;\n",
              "    }\n",
              "</style>\n",
              "<table border=\"1\" class=\"dataframe\">\n",
              "  <thead>\n",
              "    <tr style=\"text-align: right;\">\n",
              "      <th></th>\n",
              "      <th>label</th>\n",
              "      <th>text</th>\n",
              "    </tr>\n",
              "  </thead>\n",
              "  <tbody>\n",
              "    <tr>\n",
              "      <th>0</th>\n",
              "      <td>1</td>\n",
              "      <td>stayed one night getaway family thursday triple aaa rate steal th floor room complete plasma tv bose stereo voss evian water gorgeous bathroom concierge helpful cannot beat location flaw breakfast pricey service slow even though two table restaurant food good worth wait would return heartbeat gem chicago</td>\n",
              "    </tr>\n",
              "    <tr>\n",
              "      <th>1</th>\n",
              "      <td>1</td>\n",
              "      <td>triple rate upgrade view room le also included breakfast voucher great view river lake wrigley bldg tribune bldg major restaurant shopping sightseeing attraction within walking distance large room comfortable bed</td>\n",
              "    </tr>\n",
              "    <tr>\n",
              "      <th>2</th>\n",
              "      <td>1</td>\n",
              "      <td>come little late finally catching review past several month dear friend stayed hyatt regency late october one night visiting friend husband town hotel perfect imo easy check check lovely clean comfortable room great view city know area pretty well convenient many downtown chicago attraction dinner went clubing friend around division st problem getting cab back forth hyatt even public transportation right near bother since needed cab hotel parking usual chicago expensive able get car quickly problem best part got rate hotwire downright steal area chicago quality hotel</td>\n",
              "    </tr>\n",
              "    <tr>\n",
              "      <th>3</th>\n",
              "      <td>1</td>\n",
              "      <td>omni chicago really delivers front spaciousness room helpful staff prized location michigan avenue address chicago requires high level quality omni delivers check whole group people minute staff plentiful recommendation dining event room largest find price range chicago even standard room separate living area work desk fitness center free weight weight machine two row cardio equipment shared room others feel cramped way great property</td>\n",
              "    </tr>\n",
              "    <tr>\n",
              "      <th>4</th>\n",
              "      <td>1</td>\n",
              "      <td>asked high floor away elevator got room pleasantly decorated functional clean need whole lot service pleasant prompt used fitness center well equipped everything working order great location one end michigan avenue shopping district</td>\n",
              "    </tr>\n",
              "  </tbody>\n",
              "</table>\n",
              "</div>\n",
              "      <button class=\"colab-df-convert\" onclick=\"convertToInteractive('df-ec1c5641-d85e-418c-ae8a-e3a6f920d2a8')\"\n",
              "              title=\"Convert this dataframe to an interactive table.\"\n",
              "              style=\"display:none;\">\n",
              "        \n",
              "  <svg xmlns=\"http://www.w3.org/2000/svg\" height=\"24px\"viewBox=\"0 0 24 24\"\n",
              "       width=\"24px\">\n",
              "    <path d=\"M0 0h24v24H0V0z\" fill=\"none\"/>\n",
              "    <path d=\"M18.56 5.44l.94 2.06.94-2.06 2.06-.94-2.06-.94-.94-2.06-.94 2.06-2.06.94zm-11 1L8.5 8.5l.94-2.06 2.06-.94-2.06-.94L8.5 2.5l-.94 2.06-2.06.94zm10 10l.94 2.06.94-2.06 2.06-.94-2.06-.94-.94-2.06-.94 2.06-2.06.94z\"/><path d=\"M17.41 7.96l-1.37-1.37c-.4-.4-.92-.59-1.43-.59-.52 0-1.04.2-1.43.59L10.3 9.45l-7.72 7.72c-.78.78-.78 2.05 0 2.83L4 21.41c.39.39.9.59 1.41.59.51 0 1.02-.2 1.41-.59l7.78-7.78 2.81-2.81c.8-.78.8-2.07 0-2.86zM5.41 20L4 18.59l7.72-7.72 1.47 1.35L5.41 20z\"/>\n",
              "  </svg>\n",
              "      </button>\n",
              "      \n",
              "  <style>\n",
              "    .colab-df-container {\n",
              "      display:flex;\n",
              "      flex-wrap:wrap;\n",
              "      gap: 12px;\n",
              "    }\n",
              "\n",
              "    .colab-df-convert {\n",
              "      background-color: #E8F0FE;\n",
              "      border: none;\n",
              "      border-radius: 50%;\n",
              "      cursor: pointer;\n",
              "      display: none;\n",
              "      fill: #1967D2;\n",
              "      height: 32px;\n",
              "      padding: 0 0 0 0;\n",
              "      width: 32px;\n",
              "    }\n",
              "\n",
              "    .colab-df-convert:hover {\n",
              "      background-color: #E2EBFA;\n",
              "      box-shadow: 0px 1px 2px rgba(60, 64, 67, 0.3), 0px 1px 3px 1px rgba(60, 64, 67, 0.15);\n",
              "      fill: #174EA6;\n",
              "    }\n",
              "\n",
              "    [theme=dark] .colab-df-convert {\n",
              "      background-color: #3B4455;\n",
              "      fill: #D2E3FC;\n",
              "    }\n",
              "\n",
              "    [theme=dark] .colab-df-convert:hover {\n",
              "      background-color: #434B5C;\n",
              "      box-shadow: 0px 1px 3px 1px rgba(0, 0, 0, 0.15);\n",
              "      filter: drop-shadow(0px 1px 2px rgba(0, 0, 0, 0.3));\n",
              "      fill: #FFFFFF;\n",
              "    }\n",
              "  </style>\n",
              "\n",
              "      <script>\n",
              "        const buttonEl =\n",
              "          document.querySelector('#df-ec1c5641-d85e-418c-ae8a-e3a6f920d2a8 button.colab-df-convert');\n",
              "        buttonEl.style.display =\n",
              "          google.colab.kernel.accessAllowed ? 'block' : 'none';\n",
              "\n",
              "        async function convertToInteractive(key) {\n",
              "          const element = document.querySelector('#df-ec1c5641-d85e-418c-ae8a-e3a6f920d2a8');\n",
              "          const dataTable =\n",
              "            await google.colab.kernel.invokeFunction('convertToInteractive',\n",
              "                                                     [key], {});\n",
              "          if (!dataTable) return;\n",
              "\n",
              "          const docLinkHtml = 'Like what you see? Visit the ' +\n",
              "            '<a target=\"_blank\" href=https://colab.research.google.com/notebooks/data_table.ipynb>data table notebook</a>'\n",
              "            + ' to learn more about interactive tables.';\n",
              "          element.innerHTML = '';\n",
              "          dataTable['output_type'] = 'display_data';\n",
              "          await google.colab.output.renderOutput(dataTable, element);\n",
              "          const docLink = document.createElement('div');\n",
              "          docLink.innerHTML = docLinkHtml;\n",
              "          element.appendChild(docLink);\n",
              "        }\n",
              "      </script>\n",
              "    </div>\n",
              "  </div>\n",
              "  "
            ]
          },
          "metadata": {},
          "execution_count": 28
        }
      ],
      "source": [
        "df['text']=df['text'].apply(clean_text)\n",
        "df.head()"
      ]
    },
    {
      "cell_type": "markdown",
      "metadata": {
        "id": "OBHw57Wrz4Gd"
      },
      "source": [
        "### FEATURE EXTRACTION USING GLOVE"
      ]
    },
    {
      "cell_type": "code",
      "execution_count": 29,
      "metadata": {
        "id": "jh0Ex2CKgafQ"
      },
      "outputs": [],
      "source": [
        "# assigning parameters\n",
        "SEQUENCE_LENGTH = 50 # the length of all sequences (number of words per sample)\n",
        "EMBEDDING_SIZE = 50  # Using 100-Dimensional GloVe embedding vectors\n",
        "TEST_SIZE = 0.2 # ratio of testing set\n",
        "\n",
        "BATCH_SIZE = 64\n",
        "EPOCHS = 20 # number of epochs\n",
        "\n",
        "# to convert labels to integers and vice-versa\n",
        "label2int = {\"fake\": 0, \"true\": 1}\n",
        "int2label = {0: \"fake\", 1: \"true\"}"
      ]
    },
    {
      "cell_type": "code",
      "execution_count": 30,
      "metadata": {
        "id": "SIpgWh1-gajw"
      },
      "outputs": [],
      "source": [
        "# load the data\n",
        "X = df['text']\n",
        "y = df['label']"
      ]
    },
    {
      "cell_type": "code",
      "execution_count": 31,
      "metadata": {
        "colab": {
          "base_uri": "https://localhost:8080/"
        },
        "id": "yUzUvZOQganT",
        "outputId": "79a13ef3-305a-4181-ae59-05d15b0c5b60"
      },
      "outputs": [
        {
          "output_type": "execute_result",
          "data": {
            "text/plain": [
              "<keras_preprocessing.text.Tokenizer at 0x7feb570b4690>"
            ]
          },
          "metadata": {},
          "execution_count": 31
        }
      ],
      "source": [
        "# Text tokenization\n",
        "# vectorizing text, turning each text into sequence of integers\n",
        "tokenizer = Tokenizer()\n",
        "tokenizer"
      ]
    },
    {
      "cell_type": "code",
      "execution_count": 32,
      "metadata": {
        "id": "wUVzzv0Tgaq1"
      },
      "outputs": [],
      "source": [
        "tokenizer.fit_on_texts(X)\n",
        "# convert to sequence of integers\n",
        "X = tokenizer.texts_to_sequences(X)"
      ]
    },
    {
      "cell_type": "code",
      "execution_count": 33,
      "metadata": {
        "colab": {
          "base_uri": "https://localhost:8080/"
        },
        "id": "X_Do3wMEgat6",
        "outputId": "440a21a2-e026-4ba9-ce7e-11cc2e5114f6"
      },
      "outputs": [
        {
          "output_type": "stream",
          "name": "stdout",
          "text": [
            "[11, 224, 10, 9, 1127, 46, 321, 81, 80, 3, 1, 463, 305, 7, 1426, 4, 264, 1128, 104, 157, 368, 3386, 104, 2, 742, 1641, 2192, 261, 2824, 1183, 1427, 34, 1353, 225, 1075, 3387, 53, 1, 4, 2453, 64, 440, 300, 9, 192, 1035, 20, 994, 147, 172, 44, 671, 265, 220, 2, 634, 183, 926, 10, 457, 441, 2454, 344, 511, 344, 1036, 56, 151, 304, 30, 743, 2, 4513, 3388, 168, 4514, 10, 2454, 5, 60, 1076, 113, 6, 1, 714, 224, 6, 4]\n"
          ]
        }
      ],
      "source": [
        "# Let's try to print the fifth sample:\n",
        "print(X[5])"
      ]
    },
    {
      "cell_type": "code",
      "execution_count": 34,
      "metadata": {
        "colab": {
          "base_uri": "https://localhost:8080/"
        },
        "id": "BiN7Dohpgaxm",
        "outputId": "3afaca0c-1979-4237-d67a-cad6f49e4e27"
      },
      "outputs": [
        {
          "output_type": "stream",
          "name": "stderr",
          "text": [
            "/usr/local/lib/python3.7/dist-packages/ipykernel_launcher.py:2: VisibleDeprecationWarning: Creating an ndarray from ragged nested sequences (which is a list-or-tuple of lists-or-tuples-or ndarrays with different lengths or shapes) is deprecated. If you meant to do this, you must specify 'dtype=object' when creating the ndarray.\n",
            "  \n"
          ]
        }
      ],
      "source": [
        "# convert to numpy arrays\n",
        "X = np.array(X)\n",
        "y = np.array(y)"
      ]
    },
    {
      "cell_type": "code",
      "execution_count": 35,
      "metadata": {
        "colab": {
          "base_uri": "https://localhost:8080/"
        },
        "id": "eu1Xnm24ga1H",
        "outputId": "1c166cab-ead8-42ae-fe8e-64f031ff13cf"
      },
      "outputs": [
        {
          "output_type": "execute_result",
          "data": {
            "text/plain": [
              "array([list([11, 10, 9, 562, 139, 1766, 2449, 1949, 140, 1767, 196, 49, 2, 669, 925, 161, 2185, 2186, 4509, 3382, 92, 537, 30, 147, 74, 713, 763, 18, 2450, 57, 992, 7, 395, 21, 125, 41, 619, 36, 61, 26, 208, 116, 5, 232, 2451, 2187, 3]),\n",
              "       list([2449, 140, 462, 33, 2, 281, 24, 498, 57, 1521, 6, 33, 293, 362, 2188, 3383, 1768, 3383, 646, 36, 124, 1123, 474, 259, 178, 240, 148, 2, 42, 12]),\n",
              "       list([156, 130, 289, 105, 3384, 160, 475, 217, 484, 2819, 182, 11, 249, 490, 289, 1950, 10, 9, 367, 182, 82, 317, 1, 150, 3385, 327, 31, 31, 431, 25, 42, 2, 6, 33, 52, 166, 47, 328, 34, 439, 89, 80, 3, 474, 211, 63, 4510, 182, 100, 2189, 876, 109, 311, 432, 29, 1769, 249, 21, 844, 1033, 86, 344, 792, 189, 260, 432, 1, 197, 1124, 3, 339, 179, 15, 285, 605, 109, 69, 244, 28, 140, 1125, 2820, 1767, 47, 3, 191, 1]),\n",
              "       ...,\n",
              "       list([292, 3, 286, 203, 295, 1, 401, 64, 328, 286, 472, 405, 8078, 2234, 52, 297, 2, 1864, 9, 5, 138, 5, 2053, 197, 1377, 1281, 974, 1095, 485, 8079, 348, 438, 2, 184, 176, 2, 7, 4501, 446, 2, 1045, 2328, 538, 1060, 4102, 1273, 548, 87, 8080, 816, 64, 127, 13, 1, 88, 3066, 53, 81, 612, 536, 875, 5, 200, 45, 81, 1, 59, 399]),\n",
              "       list([376, 223, 97, 126, 26, 471, 295, 262, 2180, 1, 63, 48, 229, 2, 330, 335, 1244, 434, 241, 210, 593, 164, 4389, 113, 761, 90, 66, 210, 1, 26, 1843, 207, 205, 15, 726]),\n",
              "       list([3500, 8081, 1945, 271, 1, 3, 35, 510, 173, 1101, 1071, 353, 32, 1597, 459, 16, 497, 147, 32, 8082, 460, 149, 16, 495, 944, 51, 20, 206, 778, 831, 13, 813, 748, 105, 28, 2, 165, 191, 369, 2, 785, 322, 445, 156, 218, 25, 185, 185, 30, 2028, 176, 12, 8083, 342, 22, 342, 59, 592, 12, 137, 2445, 347, 507, 143, 170, 110, 9, 51, 271, 280, 384, 1036, 185, 260, 155, 540, 541, 4476, 974, 3336, 117, 2353, 395, 21, 947, 1, 601, 22, 279, 59, 626, 21, 2768, 117, 287, 105, 104, 271, 43, 227, 459, 497, 147, 500, 109, 2, 1, 853, 202, 271, 311, 641, 1120, 1850, 91])],\n",
              "      dtype=object)"
            ]
          },
          "metadata": {},
          "execution_count": 35
        }
      ],
      "source": [
        "X"
      ]
    },
    {
      "cell_type": "code",
      "execution_count": 36,
      "metadata": {
        "id": "XOOkmR5aga4a"
      },
      "outputs": [],
      "source": [
        "# pad sequences at the beginning of each sequence with 0's\n",
        "# for example if SEQUENCE_LENGTH=4:\n",
        "# [[5, 3, 2], [5, 1, 2, 3], [3, 4]]\n",
        "# will be transformed to:\n",
        "# [[0, 5, 3, 2], [5, 1, 2, 3], [0, 0, 3, 4]]\n",
        "X = pad_sequences(X, maxlen=SEQUENCE_LENGTH)"
      ]
    },
    {
      "cell_type": "code",
      "execution_count": 37,
      "metadata": {
        "colab": {
          "base_uri": "https://localhost:8080/"
        },
        "id": "OcZTYjPJga73",
        "outputId": "e004f54e-55a8-48c4-a13c-426eb4e42f72"
      },
      "outputs": [
        {
          "output_type": "execute_result",
          "data": {
            "text/plain": [
              "array([[   0,    0,    0, ..., 2451, 2187,    3],\n",
              "       [   0,    0,    0, ...,    2,   42,   12],\n",
              "       [ 328,   34,  439, ...,    3,  191,    1],\n",
              "       ...,\n",
              "       [   9,    5,  138, ...,    1,   59,  399],\n",
              "       [   0,    0,    0, ...,  205,   15,  726],\n",
              "       [ 110,    9,   51, ..., 1120, 1850,   91]], dtype=int32)"
            ]
          },
          "metadata": {},
          "execution_count": 37
        }
      ],
      "source": [
        "X"
      ]
    },
    {
      "cell_type": "code",
      "execution_count": 38,
      "metadata": {
        "id": "07le2efIga_K"
      },
      "outputs": [],
      "source": [
        "# One Hot encoding labels\n",
        "# [1, 0, 1, 0, 1] convert to:\n",
        "# [[0, 1], [1, 0], [0, 1], [1, 0], [0, 1]]\n",
        "y = to_categorical(y)"
      ]
    },
    {
      "cell_type": "code",
      "execution_count": 39,
      "metadata": {
        "colab": {
          "base_uri": "https://localhost:8080/"
        },
        "id": "YknCvtP4gbCl",
        "outputId": "42aa4e74-e6de-4f4e-af0f-6f944217cb68"
      },
      "outputs": [
        {
          "output_type": "stream",
          "name": "stdout",
          "text": [
            "[0. 1.]\n"
          ]
        }
      ],
      "source": [
        "# We used keras.utils.to_categorial() here. Let's try to print the first sample of the labels:\n",
        "print(y[0])"
      ]
    },
    {
      "cell_type": "code",
      "execution_count": 40,
      "metadata": {
        "id": "qANsIWGDgbFs"
      },
      "outputs": [],
      "source": [
        "# Next, let's shuffle and split training and testing data:\n",
        "# split and shuffle\n",
        "from sklearn.model_selection import train_test_split\n",
        "X_train, X_test, y_train, y_test = train_test_split(X, y, test_size=TEST_SIZE, random_state=7)"
      ]
    },
    {
      "cell_type": "code",
      "execution_count": 41,
      "metadata": {
        "id": "wACy4JiXgbI2"
      },
      "outputs": [],
      "source": [
        "# Let's start by writing a function to load the pre-trained embedding vectors:\n",
        "def get_embedding_vectors(tokenizer, dim=50):\n",
        "    embedding_index = {}\n",
        "    with open(f\"glove.6B.{dim}d.txt\", encoding='utf8') as f:\n",
        "        for line in tqdm.tqdm(f, \"Reading GloVe\"):\n",
        "            values = line.split()\n",
        "            word = values[0]\n",
        "            vectors = np.asarray(values[1:], dtype='float32')\n",
        "            embedding_index[word] = vectors\n",
        "\n",
        "    word_index = tokenizer.word_index\n",
        "    embedding_matrix = np.zeros((len(word_index)+1, dim))\n",
        "    for word, i in word_index.items():\n",
        "        embedding_vector = embedding_index.get(word)\n",
        "        if embedding_vector is not None:\n",
        "            # words not found will be 0s\n",
        "            embedding_matrix[i] = embedding_vector\n",
        "            \n",
        "    return embedding_matrix"
      ]
    },
    {
      "cell_type": "code",
      "execution_count": 42,
      "metadata": {
        "id": "RPKgVdtCgbMA"
      },
      "outputs": [],
      "source": [
        "def get_model(tokenizer, lstm_units):\n",
        "    \"\"\"\n",
        "    Constructs the model,\n",
        "    Embedding vectors => LSTM => 2 output Fully-Connected neurons with softmax activation\n",
        "    \"\"\"\n",
        "    # get the GloVe embedding vectors\n",
        "    embedding_matrix = get_embedding_vectors(tokenizer)\n",
        "    model = Sequential()\n",
        "    model.add(Embedding(len(tokenizer.word_index)+1,\n",
        "              EMBEDDING_SIZE,\n",
        "              weights=[embedding_matrix],\n",
        "              trainable=False,\n",
        "              input_length=SEQUENCE_LENGTH))\n",
        "\n",
        "    model.add(LSTM(lstm_units, recurrent_dropout=0.2))\n",
        "    model.add(Dropout(0.3))\n",
        "    model.add(Dense(2, activation=\"softmax\"))\n",
        "    # compile as rmsprop optimizer\n",
        "    # aswell as with recall metric\n",
        "    model.compile(optimizer=\"rmsprop\", loss=\"categorical_crossentropy\",\n",
        "                  metrics=[\"accuracy\", keras_metrics.precision(), keras_metrics.recall()])\n",
        "    model.summary()\n",
        "    return model"
      ]
    },
    {
      "cell_type": "code",
      "execution_count": 43,
      "metadata": {
        "colab": {
          "base_uri": "https://localhost:8080/"
        },
        "id": "XbucvuzHgbPX",
        "outputId": "5b5f72c7-9da9-4dda-a3ef-0eb27af2d02a"
      },
      "outputs": [
        {
          "output_type": "stream",
          "name": "stderr",
          "text": [
            "Reading GloVe: 400000it [00:05, 66811.55it/s]\n"
          ]
        },
        {
          "output_type": "stream",
          "name": "stdout",
          "text": [
            "Model: \"sequential\"\n",
            "_________________________________________________________________\n",
            " Layer (type)                Output Shape              Param #   \n",
            "=================================================================\n",
            " embedding (Embedding)       (None, 50, 50)            404200    \n",
            "                                                                 \n",
            " lstm (LSTM)                 (None, 128)               91648     \n",
            "                                                                 \n",
            " dropout (Dropout)           (None, 128)               0         \n",
            "                                                                 \n",
            " dense (Dense)               (None, 2)                 258       \n",
            "                                                                 \n",
            "=================================================================\n",
            "Total params: 496,106\n",
            "Trainable params: 91,906\n",
            "Non-trainable params: 404,200\n",
            "_________________________________________________________________\n"
          ]
        }
      ],
      "source": [
        "# constructs the model with 128 LSTM units\n",
        "model = get_model(tokenizer=tokenizer, lstm_units=128)"
      ]
    },
    {
      "cell_type": "code",
      "execution_count": 44,
      "metadata": {
        "colab": {
          "base_uri": "https://localhost:8080/"
        },
        "id": "hycqFyu6gbSo",
        "outputId": "c24e9b93-4f13-4e4e-9234-f90ac82565e2"
      },
      "outputs": [
        {
          "output_type": "stream",
          "name": "stdout",
          "text": [
            "X_train.shape: (1280, 50)\n",
            "X_test.shape: (320, 50)\n",
            "y_train.shape: (1280, 2)\n",
            "y_test.shape: (320, 2)\n"
          ]
        }
      ],
      "source": [
        "# print our data shapes\n",
        "print(\"X_train.shape:\", X_train.shape)\n",
        "print(\"X_test.shape:\", X_test.shape)\n",
        "print(\"y_train.shape:\", y_train.shape)\n",
        "print(\"y_test.shape:\", y_test.shape)"
      ]
    },
    {
      "cell_type": "code",
      "execution_count": 45,
      "metadata": {
        "colab": {
          "base_uri": "https://localhost:8080/"
        },
        "id": "OrH0OVQHgbWL",
        "outputId": "fd831bd6-c1a8-4164-8e80-09b433facb03"
      },
      "outputs": [
        {
          "output_type": "stream",
          "name": "stdout",
          "text": [
            "Epoch 1/60\n",
            "WARNING:tensorflow:`add_update` `inputs` kwarg has been deprecated. You no longer need to pass a value to `inputs` as it is being automatically inferred.\n",
            "WARNING:tensorflow:`add_update` `inputs` kwarg has been deprecated. You no longer need to pass a value to `inputs` as it is being automatically inferred.\n"
          ]
        },
        {
          "output_type": "stream",
          "name": "stderr",
          "text": [
            "/usr/local/lib/python3.7/dist-packages/keras_metrics/metrics.py:26: UserWarning: `layer.updates` will be removed in a future version. This property should not be used in TensorFlow 2.0, as `updates` are applied automatically.\n",
            "  return object.__getattribute__(self, name)\n"
          ]
        },
        {
          "output_type": "stream",
          "name": "stdout",
          "text": [
            "WARNING:tensorflow:`add_update` `inputs` kwarg has been deprecated. You no longer need to pass a value to `inputs` as it is being automatically inferred.\n",
            "WARNING:tensorflow:`add_update` `inputs` kwarg has been deprecated. You no longer need to pass a value to `inputs` as it is being automatically inferred.\n",
            "WARNING:tensorflow:`add_update` `inputs` kwarg has been deprecated. You no longer need to pass a value to `inputs` as it is being automatically inferred.\n",
            "WARNING:tensorflow:`add_update` `inputs` kwarg has been deprecated. You no longer need to pass a value to `inputs` as it is being automatically inferred.\n",
            "WARNING:tensorflow:`add_update` `inputs` kwarg has been deprecated. You no longer need to pass a value to `inputs` as it is being automatically inferred.\n",
            "WARNING:tensorflow:`add_update` `inputs` kwarg has been deprecated. You no longer need to pass a value to `inputs` as it is being automatically inferred.\n",
            "25/25 [==============================] - 10s 134ms/step - loss: 0.7099 - accuracy: 0.5163 - precision: 0.4900 - recall: 0.5552\n",
            "Epoch 2/60\n",
            "25/25 [==============================] - 3s 130ms/step - loss: 0.6709 - accuracy: 0.5925 - precision: 0.5374 - recall: 0.5655\n",
            "Epoch 3/60\n",
            "25/25 [==============================] - 3s 133ms/step - loss: 0.6264 - accuracy: 0.6531 - precision: 0.5682 - recall: 0.6031\n",
            "Epoch 4/60\n",
            "25/25 [==============================] - 3s 131ms/step - loss: 0.5982 - accuracy: 0.6794 - precision: 0.5898 - recall: 0.6415\n",
            "Epoch 5/60\n",
            "25/25 [==============================] - 3s 129ms/step - loss: 0.5907 - accuracy: 0.6750 - precision: 0.6081 - recall: 0.6635\n",
            "Epoch 6/60\n",
            "25/25 [==============================] - 3s 130ms/step - loss: 0.5542 - accuracy: 0.7169 - precision: 0.6203 - recall: 0.6797\n",
            "Epoch 7/60\n",
            "25/25 [==============================] - 3s 131ms/step - loss: 0.5356 - accuracy: 0.7250 - precision: 0.6331 - recall: 0.6914\n",
            "Epoch 8/60\n",
            "25/25 [==============================] - 3s 131ms/step - loss: 0.5381 - accuracy: 0.7262 - precision: 0.6443 - recall: 0.6996\n",
            "Epoch 9/60\n",
            "25/25 [==============================] - 3s 131ms/step - loss: 0.5150 - accuracy: 0.7513 - precision: 0.6536 - recall: 0.7065\n",
            "Epoch 10/60\n",
            "25/25 [==============================] - 3s 133ms/step - loss: 0.4980 - accuracy: 0.7719 - precision: 0.6638 - recall: 0.7145\n",
            "Epoch 11/60\n",
            "25/25 [==============================] - 3s 133ms/step - loss: 0.4999 - accuracy: 0.7656 - precision: 0.6727 - recall: 0.7200\n",
            "Epoch 12/60\n",
            "25/25 [==============================] - 3s 131ms/step - loss: 0.4519 - accuracy: 0.7825 - precision: 0.6806 - recall: 0.7242\n",
            "Epoch 13/60\n",
            "25/25 [==============================] - 3s 135ms/step - loss: 0.4554 - accuracy: 0.7806 - precision: 0.6883 - recall: 0.7306\n",
            "Epoch 14/60\n",
            "25/25 [==============================] - 3s 131ms/step - loss: 0.4273 - accuracy: 0.7981 - precision: 0.6948 - recall: 0.7362\n",
            "Epoch 15/60\n",
            "25/25 [==============================] - 3s 129ms/step - loss: 0.4155 - accuracy: 0.8056 - precision: 0.7015 - recall: 0.7416\n",
            "Epoch 16/60\n",
            "25/25 [==============================] - 3s 130ms/step - loss: 0.4019 - accuracy: 0.8156 - precision: 0.7082 - recall: 0.7463\n",
            "Epoch 17/60\n",
            "25/25 [==============================] - 3s 129ms/step - loss: 0.3729 - accuracy: 0.8288 - precision: 0.7143 - recall: 0.7517\n",
            "Epoch 18/60\n",
            "25/25 [==============================] - 3s 131ms/step - loss: 0.3473 - accuracy: 0.8456 - precision: 0.7210 - recall: 0.7564\n",
            "Epoch 19/60\n",
            "25/25 [==============================] - 3s 130ms/step - loss: 0.3317 - accuracy: 0.8587 - precision: 0.7279 - recall: 0.7617\n",
            "Epoch 20/60\n",
            "25/25 [==============================] - 3s 131ms/step - loss: 0.3354 - accuracy: 0.8550 - precision: 0.7343 - recall: 0.7665\n",
            "Epoch 21/60\n",
            "25/25 [==============================] - 3s 131ms/step - loss: 0.2897 - accuracy: 0.8731 - precision: 0.7404 - recall: 0.7717\n",
            "Epoch 22/60\n",
            "25/25 [==============================] - 3s 129ms/step - loss: 0.2809 - accuracy: 0.8875 - precision: 0.7464 - recall: 0.7768\n",
            "Epoch 23/60\n",
            "25/25 [==============================] - 3s 130ms/step - loss: 0.2559 - accuracy: 0.9050 - precision: 0.7528 - recall: 0.7821\n",
            "Epoch 24/60\n",
            "25/25 [==============================] - 3s 128ms/step - loss: 0.2332 - accuracy: 0.9069 - precision: 0.7590 - recall: 0.7876\n",
            "Epoch 25/60\n",
            "25/25 [==============================] - 3s 128ms/step - loss: 0.2250 - accuracy: 0.9144 - precision: 0.7650 - recall: 0.7926\n",
            "Epoch 26/60\n",
            "25/25 [==============================] - 3s 130ms/step - loss: 0.1853 - accuracy: 0.9281 - precision: 0.7709 - recall: 0.7979\n",
            "Epoch 27/60\n",
            "25/25 [==============================] - 3s 129ms/step - loss: 0.2035 - accuracy: 0.9237 - precision: 0.7763 - recall: 0.8023\n",
            "Epoch 28/60\n",
            "25/25 [==============================] - 3s 128ms/step - loss: 0.1741 - accuracy: 0.9356 - precision: 0.7819 - recall: 0.8070\n",
            "Epoch 29/60\n",
            "25/25 [==============================] - 3s 129ms/step - loss: 0.1300 - accuracy: 0.9563 - precision: 0.7874 - recall: 0.8120\n",
            "Epoch 30/60\n",
            "25/25 [==============================] - 3s 129ms/step - loss: 0.1411 - accuracy: 0.9475 - precision: 0.7926 - recall: 0.8169\n",
            "Epoch 31/60\n",
            "25/25 [==============================] - 3s 128ms/step - loss: 0.1398 - accuracy: 0.9513 - precision: 0.7977 - recall: 0.8215\n",
            "Epoch 32/60\n",
            "25/25 [==============================] - 4s 158ms/step - loss: 0.1223 - accuracy: 0.9606 - precision: 0.8026 - recall: 0.8258\n",
            "Epoch 33/60\n",
            "25/25 [==============================] - 3s 129ms/step - loss: 0.1217 - accuracy: 0.9575 - precision: 0.8073 - recall: 0.8296\n",
            "Epoch 34/60\n",
            "25/25 [==============================] - 3s 129ms/step - loss: 0.0939 - accuracy: 0.9681 - precision: 0.8120 - recall: 0.8337\n",
            "Epoch 35/60\n",
            "25/25 [==============================] - 4s 157ms/step - loss: 0.0826 - accuracy: 0.9719 - precision: 0.8165 - recall: 0.8375\n",
            "Epoch 36/60\n",
            "25/25 [==============================] - 3s 129ms/step - loss: 0.0936 - accuracy: 0.9675 - precision: 0.8207 - recall: 0.8413\n",
            "Epoch 37/60\n",
            "25/25 [==============================] - 3s 130ms/step - loss: 0.0687 - accuracy: 0.9750 - precision: 0.8246 - recall: 0.8447\n",
            "Epoch 38/60\n",
            "25/25 [==============================] - 3s 130ms/step - loss: 0.0908 - accuracy: 0.9656 - precision: 0.8283 - recall: 0.8479\n",
            "Epoch 39/60\n",
            "25/25 [==============================] - 3s 129ms/step - loss: 0.0456 - accuracy: 0.9862 - precision: 0.8322 - recall: 0.8514\n",
            "Epoch 40/60\n",
            "25/25 [==============================] - 3s 128ms/step - loss: 0.1023 - accuracy: 0.9675 - precision: 0.8358 - recall: 0.8547\n",
            "Epoch 41/60\n",
            "25/25 [==============================] - 3s 128ms/step - loss: 0.0473 - accuracy: 0.9856 - precision: 0.8391 - recall: 0.8577\n",
            "Epoch 42/60\n",
            "25/25 [==============================] - 3s 129ms/step - loss: 0.0610 - accuracy: 0.9812 - precision: 0.8425 - recall: 0.8608\n",
            "Epoch 43/60\n",
            "25/25 [==============================] - 3s 129ms/step - loss: 0.0571 - accuracy: 0.9812 - precision: 0.8458 - recall: 0.8637\n",
            "Epoch 44/60\n",
            "25/25 [==============================] - 3s 129ms/step - loss: 0.0432 - accuracy: 0.9869 - precision: 0.8488 - recall: 0.8664\n",
            "Epoch 45/60\n",
            "25/25 [==============================] - 3s 131ms/step - loss: 0.0482 - accuracy: 0.9812 - precision: 0.8518 - recall: 0.8690\n",
            "Epoch 46/60\n",
            "25/25 [==============================] - 3s 129ms/step - loss: 0.0543 - accuracy: 0.9781 - precision: 0.8546 - recall: 0.8715\n",
            "Epoch 47/60\n",
            "25/25 [==============================] - 3s 129ms/step - loss: 0.0264 - accuracy: 0.9931 - precision: 0.8573 - recall: 0.8739\n",
            "Epoch 48/60\n",
            "25/25 [==============================] - 3s 132ms/step - loss: 0.0457 - accuracy: 0.9831 - precision: 0.8601 - recall: 0.8765\n",
            "Epoch 49/60\n",
            "25/25 [==============================] - 3s 133ms/step - loss: 0.0257 - accuracy: 0.9900 - precision: 0.8625 - recall: 0.8787\n",
            "Epoch 50/60\n",
            "25/25 [==============================] - 3s 130ms/step - loss: 0.0457 - accuracy: 0.9869 - precision: 0.8650 - recall: 0.8808\n",
            "Epoch 51/60\n",
            "25/25 [==============================] - 3s 131ms/step - loss: 0.0455 - accuracy: 0.9850 - precision: 0.8674 - recall: 0.8828\n",
            "Epoch 52/60\n",
            "25/25 [==============================] - 3s 129ms/step - loss: 0.0489 - accuracy: 0.9831 - precision: 0.8698 - recall: 0.8849\n",
            "Epoch 53/60\n",
            "25/25 [==============================] - 3s 129ms/step - loss: 0.0318 - accuracy: 0.9900 - precision: 0.8718 - recall: 0.8867\n",
            "Epoch 54/60\n",
            "25/25 [==============================] - 3s 129ms/step - loss: 0.0180 - accuracy: 0.9950 - precision: 0.8741 - recall: 0.8888\n",
            "Epoch 55/60\n",
            "25/25 [==============================] - 3s 129ms/step - loss: 0.0470 - accuracy: 0.9850 - precision: 0.8761 - recall: 0.8905\n",
            "Epoch 56/60\n",
            "25/25 [==============================] - 3s 128ms/step - loss: 0.0441 - accuracy: 0.9894 - precision: 0.8781 - recall: 0.8923\n",
            "Epoch 57/60\n",
            "25/25 [==============================] - 3s 136ms/step - loss: 0.0247 - accuracy: 0.9912 - precision: 0.8801 - recall: 0.8941\n",
            "Epoch 58/60\n",
            "25/25 [==============================] - 3s 129ms/step - loss: 0.0214 - accuracy: 0.9931 - precision: 0.8820 - recall: 0.8958\n",
            "Epoch 59/60\n",
            "25/25 [==============================] - 3s 129ms/step - loss: 0.0182 - accuracy: 0.9944 - precision: 0.8839 - recall: 0.8974\n",
            "Epoch 60/60\n",
            "25/25 [==============================] - 3s 133ms/step - loss: 0.0345 - accuracy: 0.9894 - precision: 0.8856 - recall: 0.8990\n"
          ]
        },
        {
          "output_type": "execute_result",
          "data": {
            "text/plain": [
              "<keras.callbacks.History at 0x7feb4ab41c10>"
            ]
          },
          "metadata": {},
          "execution_count": 45
        }
      ],
      "source": [
        "# initialize our ModelCheckpoint and TensorBoard callbacks\n",
        "# model checkpoint for saving best weights\n",
        "#model_checkpoint = ModelCheckpoint(\"results/fakenews classifier_{val_loss:.2f}\", save_best_only=True, verbose=1)\n",
        "# for better visualization\n",
        "#tensorboard = TensorBoard(f\"logs/fakenews classifier_{time.time()}\")\n",
        "\n",
        "# train the model\n",
        "model.fit(X, y,\n",
        "          batch_size=BATCH_SIZE, epochs=60,\n",
        "          verbose=1)"
      ]
    },
    {
      "cell_type": "code",
      "execution_count": 46,
      "metadata": {
        "colab": {
          "base_uri": "https://localhost:8080/"
        },
        "id": "hlKTOQLdgbZp",
        "outputId": "4261196e-9014-4a84-a8f7-01bfa8c155bf"
      },
      "outputs": [
        {
          "output_type": "stream",
          "name": "stdout",
          "text": [
            "WARNING:tensorflow:`add_update` `inputs` kwarg has been deprecated. You no longer need to pass a value to `inputs` as it is being automatically inferred.\n",
            "WARNING:tensorflow:`add_update` `inputs` kwarg has been deprecated. You no longer need to pass a value to `inputs` as it is being automatically inferred.\n",
            "WARNING:tensorflow:`add_update` `inputs` kwarg has been deprecated. You no longer need to pass a value to `inputs` as it is being automatically inferred.\n",
            "WARNING:tensorflow:`add_update` `inputs` kwarg has been deprecated. You no longer need to pass a value to `inputs` as it is being automatically inferred.\n"
          ]
        },
        {
          "output_type": "stream",
          "name": "stderr",
          "text": [
            "/usr/local/lib/python3.7/dist-packages/keras_metrics/metrics.py:26: UserWarning: `layer.updates` will be removed in a future version. This property should not be used in TensorFlow 2.0, as `updates` are applied automatically.\n",
            "  return object.__getattribute__(self, name)\n"
          ]
        },
        {
          "output_type": "stream",
          "name": "stdout",
          "text": [
            "10/10 [==============================] - 1s 19ms/step - loss: 0.0029 - accuracy: 1.0000 - precision: 0.8867 - recall: 0.8999\n",
            "Accuracy: 100.00%\n",
            "Precision:   88.67%\n",
            "Recall:   89.99%\n"
          ]
        }
      ],
      "source": [
        "# get the loss and metrics\n",
        "result = model.evaluate(X_test, y_test)\n",
        "# extract those\n",
        "loss = result[0]\n",
        "accuracy = result[1]\n",
        "precision = result[2]\n",
        "recall = result[3]\n",
        "\n",
        "print(f\"Accuracy: {accuracy*100:.2f}%\")\n",
        "print(f\"Precision:   {precision*100:.2f}%\")\n",
        "print(f\"Recall:   {recall*100:.2f}%\")"
      ]
    },
    {
      "cell_type": "markdown",
      "metadata": {
        "id": "f-HBtrQwJecm"
      },
      "source": [
        "### MODEL EVALUATION"
      ]
    },
    {
      "cell_type": "code",
      "execution_count": 47,
      "metadata": {
        "id": "cZvMvPbTHsDz"
      },
      "outputs": [],
      "source": [
        "def get_predictions(text):\n",
        "    sequence = tokenizer.texts_to_sequences([text])\n",
        "    # pad the sequence\n",
        "    sequence = pad_sequences(sequence, maxlen=SEQUENCE_LENGTH)\n",
        "    # get the prediction\n",
        "    prediction = model.predict(sequence)[0]\n",
        "    # one-hot encoded vector, revert using np.argmax\n",
        "    return int2label[np.argmax(prediction)]"
      ]
    },
    {
      "cell_type": "code",
      "execution_count": 48,
      "metadata": {
        "colab": {
          "base_uri": "https://localhost:8080/"
        },
        "id": "9nhFLy7IHtgK",
        "outputId": "b35aab3c-a0bf-4cdb-dcc3-b3160528328b"
      },
      "outputs": [
        {
          "output_type": "stream",
          "name": "stdout",
          "text": [
            "true\n"
          ]
        }
      ],
      "source": [
        "text = \"My husband and I stayed at the Hotel Allegro in March, 2006. We had a great time! We were upgraded to a suite, and enjoyed the jacuzzi tub with Mr. Bubbles, animal print robes, and a luxurious king- sized bed! THe suite was very nice, and we had no problem with noise from other rooms or from the street. It was very boutiquey, and the lobby was lovely. We enjoyed the complementary wine hour. The staff was attentive, and our stay in this Kimpton hotel made our first-time trip to Chicago memorable! We would return here!\"\n",
        "print(get_predictions(text))"
      ]
    },
    {
      "cell_type": "code",
      "execution_count": 49,
      "metadata": {
        "colab": {
          "base_uri": "https://localhost:8080/"
        },
        "id": "4Bun8KqkH7Cz",
        "outputId": "2cf87a55-7dd8-4f27-f26f-b64b41652594"
      },
      "outputs": [
        {
          "output_type": "stream",
          "name": "stdout",
          "text": [
            "fake\n"
          ]
        }
      ],
      "source": [
        "text = \"For 250 dollars, cheapest room available at the Hard Rock Hotel Chicago, you would assume you would have access to wifi. Yet, that was not the case. I was told I 'could have had' internet if I had booked through the site, which I didnt. The lady in the reception had no idea what she was talking about and had to ask around about internet access in general.\"\n",
        "print(get_predictions(text))"
      ]
    },
    {
      "cell_type": "code",
      "execution_count": 50,
      "metadata": {
        "colab": {
          "base_uri": "https://localhost:8080/"
        },
        "id": "Z7__XFuQH7Hq",
        "outputId": "7cc6595f-2676-4c40-f79b-614e0d9858ad"
      },
      "outputs": [
        {
          "output_type": "stream",
          "name": "stdout",
          "text": [
            "true\n"
          ]
        }
      ],
      "source": [
        "text = \"We stayed at the Conrad for 2 nights for a friends reunion. The room was clean and new feeling, nice city view, free bottled water in room upon arrival. Check in was a breeze, and our room was ready even though we were several hours early. All staff was friendly and helpful, excellent breakfast\"\n",
        "print(get_predictions(text))"
      ]
    },
    {
      "cell_type": "code",
      "execution_count": 51,
      "metadata": {
        "colab": {
          "base_uri": "https://localhost:8080/"
        },
        "id": "YXU6VRD6H7Of",
        "outputId": "90fab3a4-7ee1-4d51-e98d-c02d7fbfb6c6"
      },
      "outputs": [
        {
          "output_type": "stream",
          "name": "stdout",
          "text": [
            "true\n"
          ]
        }
      ],
      "source": [
        "text = \"The Hard Rock Hotel in Chicago has it all: location, comfort, and rockability! We stayed at the Hard Rock Hotel in Chicago recently and found it to be amazing! The location was perfect as it is walking distance to the Magnificent Mile, Navy Pier, and Lake Michigan. It was just a short ride by bus or cab to the sports stadiums, Shedd Aquarium or the Museum of Science and Industry! The food, although it was pricey, was great! There is a spa on site if you need a little time to relax and recoup after all that rockin', and if you have pets, they get the ROYAL treatment, complete with gifts! I would highly recommend the Hard Rock Hotel of Chicago!\"\n",
        "print(get_predictions(text))"
      ]
    },
    {
      "cell_type": "code",
      "execution_count": 52,
      "metadata": {
        "colab": {
          "base_uri": "https://localhost:8080/"
        },
        "id": "QIkuTyh_JBTs",
        "outputId": "eb3b7230-a39d-4a03-f759-ba5e4928b0ae"
      },
      "outputs": [
        {
          "output_type": "stream",
          "name": "stdout",
          "text": [
            "true\n"
          ]
        }
      ],
      "source": [
        "text = \"' Barely Average Hotel at Premium Price' This hotel has a beautiful lobby but fails to fails to maintain its standards beyond the lobby. I have stayed in the Conrad in Dublin, Ireland and in HongKong both of which I loved. I was looking forward to staying at this hotel. I was extremely disappointed. I am very surprised that this hotel is allowed to carry the Conrad name. Pros: Elegant lobby nicely decorated with fresh flowers Location: Located in the Heart of Chicago Disappointments - Stained and worn out carpet in hallway - Room was small - Phone and lightbulb in room were broken - Breakfast was $60 for two people, service was slow and impolite - Hotel rationed soaps and shampoo, one bar of soap to share and one bottle of shampoo which was not replaced for two days, I felt like I was staying at a budget hotel. and to cap off my stay the hotel made a billing error which took three months and more effort than it was worth to correct. I would not stay at this hotel again, It just is not worth the premium price they charge.\"\n",
        "print(get_predictions(text))"
      ]
    },
    {
      "cell_type": "code",
      "execution_count": 53,
      "metadata": {
        "colab": {
          "base_uri": "https://localhost:8080/"
        },
        "id": "ItAY8u6AJ3jF",
        "outputId": "b9061445-c121-4e64-864f-23faab26ba92"
      },
      "outputs": [
        {
          "output_type": "stream",
          "name": "stdout",
          "text": [
            "fake\n"
          ]
        }
      ],
      "source": [
        "text = \"this hotel is good and nice.\"\n",
        "print(get_predictions(text))"
      ]
    },
    {
      "cell_type": "code",
      "execution_count": 54,
      "metadata": {
        "colab": {
          "base_uri": "https://localhost:8080/"
        },
        "id": "TEbXJCkfJ_qX",
        "outputId": "b99c7703-dd8a-4bc9-c817-d6d8cbd05ba7"
      },
      "outputs": [
        {
          "output_type": "stream",
          "name": "stdout",
          "text": [
            "fake\n"
          ]
        }
      ],
      "source": [
        "text = \"this hotel is good and nice. room is very ambience and clean. staffs are very good. but i give 2 rating\"\n",
        "print(get_predictions(text))"
      ]
    }
  ],
  "metadata": {
    "colab": {
      "name": "tripadvisor_review_using_GLOVE.ipynb",
      "provenance": [],
      "collapsed_sections": [],
      "include_colab_link": true
    },
    "kernelspec": {
      "display_name": "Python 3 (ipykernel)",
      "language": "python",
      "name": "python3"
    },
    "language_info": {
      "codemirror_mode": {
        "name": "ipython",
        "version": 3
      },
      "file_extension": ".py",
      "mimetype": "text/x-python",
      "name": "python",
      "nbconvert_exporter": "python",
      "pygments_lexer": "ipython3",
      "version": "3.9.7"
    }
  },
  "nbformat": 4,
  "nbformat_minor": 0
}